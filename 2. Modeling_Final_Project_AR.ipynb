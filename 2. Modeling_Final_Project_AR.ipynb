{
 "cells": [
  {
   "cell_type": "markdown",
   "metadata": {},
   "source": [
    "# Final Project Job Connector Data Science and Machine Learning Part 2\n",
    "(JCDS0804 JKT)\n",
    "\n",
    "**By: Azizur Rachman**"
   ]
  },
  {
   "cell_type": "markdown",
   "metadata": {},
   "source": [
    "### This part is where modelling to predict Attrition in HR Analysis, steps are as follow:\n",
    "\n",
    "The model that will be used are:\n",
    "- Logistic Regression\n",
    "- RandomForest Classfier\n",
    "- K Nearest Neighbors\n",
    "\n",
    "1. Preprocessing Features\n",
    "2. Splitting dataset without scalling\n",
    "3. Using Scaled data\n",
    "4. Handling Imbalance data\n",
    "5. Feature Selection\n",
    "6. Deploy model"
   ]
  },
  {
   "cell_type": "code",
   "execution_count": 84,
   "metadata": {},
   "outputs": [],
   "source": [
    "# import warnings\n",
    "# warnings.filterwarnings('ignore')\n",
    "\n",
    "from sklearn.linear_model import LogisticRegression\n",
    "from sklearn.ensemble import RandomForestClassifier\n",
    "from sklearn.neighbors import KNeighborsClassifier\n",
    "\n",
    "from sklearn.metrics import accuracy_score, classification_report, confusion_matrix, recall_score, f1_score\n",
    "from sklearn.model_selection import cross_val_score, train_test_split\n",
    "\n",
    "\n",
    "from sklearn.preprocessing import LabelEncoder\n",
    "from imblearn.over_sampling import SMOTE\n",
    "\n",
    "from sklearn.preprocessing import RobustScaler, StandardScaler\n",
    "from sklearn.model_selection import RandomizedSearchCV, GridSearchCV\n",
    "\n",
    "import joblib\n",
    "\n",
    "import matplotlib.pyplot as plt\n",
    "import numpy as np\n",
    "import pandas as pd\n",
    "import seaborn as sns\n",
    "%matplotlib inline"
   ]
  },
  {
   "cell_type": "markdown",
   "metadata": {},
   "source": [
    "## Load the dataset"
   ]
  },
  {
   "cell_type": "code",
   "execution_count": 2,
   "metadata": {},
   "outputs": [],
   "source": [
    "full_data_clean_gen = pd.read_csv('Dataset/full_data_clean_gen.csv')"
   ]
  },
  {
   "cell_type": "code",
   "execution_count": 3,
   "metadata": {},
   "outputs": [
    {
     "data": {
      "text/html": [
       "<div>\n",
       "<style scoped>\n",
       "    .dataframe tbody tr th:only-of-type {\n",
       "        vertical-align: middle;\n",
       "    }\n",
       "\n",
       "    .dataframe tbody tr th {\n",
       "        vertical-align: top;\n",
       "    }\n",
       "\n",
       "    .dataframe thead th {\n",
       "        text-align: right;\n",
       "    }\n",
       "</style>\n",
       "<table border=\"1\" class=\"dataframe\">\n",
       "  <thead>\n",
       "    <tr style=\"text-align: right;\">\n",
       "      <th></th>\n",
       "      <th>EmployeeID</th>\n",
       "      <th>Gender</th>\n",
       "      <th>Age</th>\n",
       "      <th>MaritalStatus</th>\n",
       "      <th>DistanceFromHome</th>\n",
       "      <th>EducationField</th>\n",
       "      <th>Education</th>\n",
       "      <th>Department</th>\n",
       "      <th>JobLevel</th>\n",
       "      <th>JobRole</th>\n",
       "      <th>StandardHours</th>\n",
       "      <th>YearsAtCompany</th>\n",
       "      <th>TotalWorkingYears</th>\n",
       "      <th>NumCompaniesWorked</th>\n",
       "      <th>MonthlyIncome</th>\n",
       "      <th>PercentSalaryHike</th>\n",
       "      <th>BusinessTravel</th>\n",
       "      <th>TrainingTimesLastYear</th>\n",
       "      <th>YearsSinceLastPromotion</th>\n",
       "      <th>YearsWithCurrManager</th>\n",
       "      <th>JobInvolvement</th>\n",
       "      <th>EnvironmentSatisfaction</th>\n",
       "      <th>JobSatisfaction</th>\n",
       "      <th>WorkLifeBalance</th>\n",
       "      <th>PerformanceRating</th>\n",
       "      <th>StockOptionLevel</th>\n",
       "      <th>EmployeeCount</th>\n",
       "      <th>Over18</th>\n",
       "      <th>Attrition</th>\n",
       "      <th>Generation</th>\n",
       "    </tr>\n",
       "  </thead>\n",
       "  <tbody>\n",
       "    <tr>\n",
       "      <td>0</td>\n",
       "      <td>1</td>\n",
       "      <td>Female</td>\n",
       "      <td>51</td>\n",
       "      <td>Married</td>\n",
       "      <td>6</td>\n",
       "      <td>Life Sciences</td>\n",
       "      <td>2</td>\n",
       "      <td>Sales</td>\n",
       "      <td>1</td>\n",
       "      <td>Healthcare Representative</td>\n",
       "      <td>8</td>\n",
       "      <td>1</td>\n",
       "      <td>1</td>\n",
       "      <td>1</td>\n",
       "      <td>131160</td>\n",
       "      <td>11</td>\n",
       "      <td>Travel_Rarely</td>\n",
       "      <td>6</td>\n",
       "      <td>0</td>\n",
       "      <td>0</td>\n",
       "      <td>3</td>\n",
       "      <td>3</td>\n",
       "      <td>4</td>\n",
       "      <td>2</td>\n",
       "      <td>3</td>\n",
       "      <td>0</td>\n",
       "      <td>1</td>\n",
       "      <td>Y</td>\n",
       "      <td>No</td>\n",
       "      <td>Generation X</td>\n",
       "    </tr>\n",
       "    <tr>\n",
       "      <td>1</td>\n",
       "      <td>2</td>\n",
       "      <td>Female</td>\n",
       "      <td>31</td>\n",
       "      <td>Single</td>\n",
       "      <td>10</td>\n",
       "      <td>Life Sciences</td>\n",
       "      <td>1</td>\n",
       "      <td>Research &amp; Development</td>\n",
       "      <td>1</td>\n",
       "      <td>Research Scientist</td>\n",
       "      <td>8</td>\n",
       "      <td>5</td>\n",
       "      <td>6</td>\n",
       "      <td>0</td>\n",
       "      <td>41890</td>\n",
       "      <td>23</td>\n",
       "      <td>Travel_Frequently</td>\n",
       "      <td>3</td>\n",
       "      <td>1</td>\n",
       "      <td>4</td>\n",
       "      <td>2</td>\n",
       "      <td>3</td>\n",
       "      <td>2</td>\n",
       "      <td>4</td>\n",
       "      <td>4</td>\n",
       "      <td>1</td>\n",
       "      <td>1</td>\n",
       "      <td>Y</td>\n",
       "      <td>Yes</td>\n",
       "      <td>Millenials</td>\n",
       "    </tr>\n",
       "    <tr>\n",
       "      <td>2</td>\n",
       "      <td>3</td>\n",
       "      <td>Male</td>\n",
       "      <td>32</td>\n",
       "      <td>Married</td>\n",
       "      <td>17</td>\n",
       "      <td>Other</td>\n",
       "      <td>4</td>\n",
       "      <td>Research &amp; Development</td>\n",
       "      <td>4</td>\n",
       "      <td>Sales Executive</td>\n",
       "      <td>8</td>\n",
       "      <td>5</td>\n",
       "      <td>5</td>\n",
       "      <td>1</td>\n",
       "      <td>193280</td>\n",
       "      <td>15</td>\n",
       "      <td>Travel_Frequently</td>\n",
       "      <td>2</td>\n",
       "      <td>0</td>\n",
       "      <td>3</td>\n",
       "      <td>3</td>\n",
       "      <td>2</td>\n",
       "      <td>2</td>\n",
       "      <td>1</td>\n",
       "      <td>3</td>\n",
       "      <td>3</td>\n",
       "      <td>1</td>\n",
       "      <td>Y</td>\n",
       "      <td>No</td>\n",
       "      <td>Millenials</td>\n",
       "    </tr>\n",
       "    <tr>\n",
       "      <td>3</td>\n",
       "      <td>4</td>\n",
       "      <td>Male</td>\n",
       "      <td>38</td>\n",
       "      <td>Married</td>\n",
       "      <td>2</td>\n",
       "      <td>Life Sciences</td>\n",
       "      <td>5</td>\n",
       "      <td>Research &amp; Development</td>\n",
       "      <td>3</td>\n",
       "      <td>Human Resources</td>\n",
       "      <td>8</td>\n",
       "      <td>8</td>\n",
       "      <td>13</td>\n",
       "      <td>3</td>\n",
       "      <td>83210</td>\n",
       "      <td>11</td>\n",
       "      <td>Non-Travel</td>\n",
       "      <td>5</td>\n",
       "      <td>7</td>\n",
       "      <td>5</td>\n",
       "      <td>2</td>\n",
       "      <td>4</td>\n",
       "      <td>4</td>\n",
       "      <td>3</td>\n",
       "      <td>3</td>\n",
       "      <td>3</td>\n",
       "      <td>1</td>\n",
       "      <td>Y</td>\n",
       "      <td>No</td>\n",
       "      <td>Generation X</td>\n",
       "    </tr>\n",
       "    <tr>\n",
       "      <td>4</td>\n",
       "      <td>5</td>\n",
       "      <td>Male</td>\n",
       "      <td>32</td>\n",
       "      <td>Single</td>\n",
       "      <td>10</td>\n",
       "      <td>Medical</td>\n",
       "      <td>1</td>\n",
       "      <td>Research &amp; Development</td>\n",
       "      <td>1</td>\n",
       "      <td>Sales Executive</td>\n",
       "      <td>8</td>\n",
       "      <td>6</td>\n",
       "      <td>9</td>\n",
       "      <td>4</td>\n",
       "      <td>23420</td>\n",
       "      <td>12</td>\n",
       "      <td>Travel_Rarely</td>\n",
       "      <td>2</td>\n",
       "      <td>0</td>\n",
       "      <td>4</td>\n",
       "      <td>3</td>\n",
       "      <td>4</td>\n",
       "      <td>1</td>\n",
       "      <td>3</td>\n",
       "      <td>3</td>\n",
       "      <td>2</td>\n",
       "      <td>1</td>\n",
       "      <td>Y</td>\n",
       "      <td>No</td>\n",
       "      <td>Millenials</td>\n",
       "    </tr>\n",
       "  </tbody>\n",
       "</table>\n",
       "</div>"
      ],
      "text/plain": [
       "   EmployeeID  Gender  Age MaritalStatus  DistanceFromHome EducationField  \\\n",
       "0           1  Female   51       Married                 6  Life Sciences   \n",
       "1           2  Female   31        Single                10  Life Sciences   \n",
       "2           3    Male   32       Married                17          Other   \n",
       "3           4    Male   38       Married                 2  Life Sciences   \n",
       "4           5    Male   32        Single                10        Medical   \n",
       "\n",
       "   Education              Department  JobLevel                    JobRole  \\\n",
       "0          2                   Sales         1  Healthcare Representative   \n",
       "1          1  Research & Development         1         Research Scientist   \n",
       "2          4  Research & Development         4            Sales Executive   \n",
       "3          5  Research & Development         3            Human Resources   \n",
       "4          1  Research & Development         1            Sales Executive   \n",
       "\n",
       "   StandardHours  YearsAtCompany  TotalWorkingYears  NumCompaniesWorked  \\\n",
       "0              8               1                  1                   1   \n",
       "1              8               5                  6                   0   \n",
       "2              8               5                  5                   1   \n",
       "3              8               8                 13                   3   \n",
       "4              8               6                  9                   4   \n",
       "\n",
       "   MonthlyIncome  PercentSalaryHike     BusinessTravel  TrainingTimesLastYear  \\\n",
       "0         131160                 11      Travel_Rarely                      6   \n",
       "1          41890                 23  Travel_Frequently                      3   \n",
       "2         193280                 15  Travel_Frequently                      2   \n",
       "3          83210                 11         Non-Travel                      5   \n",
       "4          23420                 12      Travel_Rarely                      2   \n",
       "\n",
       "   YearsSinceLastPromotion  YearsWithCurrManager  JobInvolvement  \\\n",
       "0                        0                     0               3   \n",
       "1                        1                     4               2   \n",
       "2                        0                     3               3   \n",
       "3                        7                     5               2   \n",
       "4                        0                     4               3   \n",
       "\n",
       "   EnvironmentSatisfaction  JobSatisfaction  WorkLifeBalance  \\\n",
       "0                        3                4                2   \n",
       "1                        3                2                4   \n",
       "2                        2                2                1   \n",
       "3                        4                4                3   \n",
       "4                        4                1                3   \n",
       "\n",
       "   PerformanceRating  StockOptionLevel  EmployeeCount Over18 Attrition  \\\n",
       "0                  3                 0              1      Y        No   \n",
       "1                  4                 1              1      Y       Yes   \n",
       "2                  3                 3              1      Y        No   \n",
       "3                  3                 3              1      Y        No   \n",
       "4                  3                 2              1      Y        No   \n",
       "\n",
       "     Generation  \n",
       "0  Generation X  \n",
       "1    Millenials  \n",
       "2    Millenials  \n",
       "3  Generation X  \n",
       "4    Millenials  "
      ]
     },
     "execution_count": 3,
     "metadata": {},
     "output_type": "execute_result"
    }
   ],
   "source": [
    "pd.set_option('display.max_columns',None)\n",
    "full_data_clean_gen.head()"
   ]
  },
  {
   "cell_type": "code",
   "execution_count": 4,
   "metadata": {},
   "outputs": [
    {
     "name": "stdout",
     "output_type": "stream",
     "text": [
      "<class 'pandas.core.frame.DataFrame'>\n",
      "RangeIndex: 4410 entries, 0 to 4409\n",
      "Data columns (total 30 columns):\n",
      "EmployeeID                 4410 non-null int64\n",
      "Gender                     4410 non-null object\n",
      "Age                        4410 non-null int64\n",
      "MaritalStatus              4410 non-null object\n",
      "DistanceFromHome           4410 non-null int64\n",
      "EducationField             4410 non-null object\n",
      "Education                  4410 non-null int64\n",
      "Department                 4410 non-null object\n",
      "JobLevel                   4410 non-null int64\n",
      "JobRole                    4410 non-null object\n",
      "StandardHours              4410 non-null int64\n",
      "YearsAtCompany             4410 non-null int64\n",
      "TotalWorkingYears          4410 non-null int64\n",
      "NumCompaniesWorked         4410 non-null int64\n",
      "MonthlyIncome              4410 non-null int64\n",
      "PercentSalaryHike          4410 non-null int64\n",
      "BusinessTravel             4410 non-null object\n",
      "TrainingTimesLastYear      4410 non-null int64\n",
      "YearsSinceLastPromotion    4410 non-null int64\n",
      "YearsWithCurrManager       4410 non-null int64\n",
      "JobInvolvement             4410 non-null int64\n",
      "EnvironmentSatisfaction    4410 non-null int64\n",
      "JobSatisfaction            4410 non-null int64\n",
      "WorkLifeBalance            4410 non-null int64\n",
      "PerformanceRating          4410 non-null int64\n",
      "StockOptionLevel           4410 non-null int64\n",
      "EmployeeCount              4410 non-null int64\n",
      "Over18                     4410 non-null object\n",
      "Attrition                  4410 non-null object\n",
      "Generation                 4410 non-null object\n",
      "dtypes: int64(21), object(9)\n",
      "memory usage: 1.0+ MB\n"
     ]
    }
   ],
   "source": [
    "full_data_clean_gen.info()"
   ]
  },
  {
   "cell_type": "markdown",
   "metadata": {},
   "source": [
    "For pre-selection of features, eliminate unneccesary features such as: 'EmployeeCount','EmployeeID','StandardHours','Over18', in addition, 'Generation'as it was used as an age group identifier"
   ]
  },
  {
   "cell_type": "code",
   "execution_count": 5,
   "metadata": {},
   "outputs": [
    {
     "data": {
      "text/html": [
       "<div>\n",
       "<style scoped>\n",
       "    .dataframe tbody tr th:only-of-type {\n",
       "        vertical-align: middle;\n",
       "    }\n",
       "\n",
       "    .dataframe tbody tr th {\n",
       "        vertical-align: top;\n",
       "    }\n",
       "\n",
       "    .dataframe thead th {\n",
       "        text-align: right;\n",
       "    }\n",
       "</style>\n",
       "<table border=\"1\" class=\"dataframe\">\n",
       "  <thead>\n",
       "    <tr style=\"text-align: right;\">\n",
       "      <th></th>\n",
       "      <th>Gender</th>\n",
       "      <th>Age</th>\n",
       "      <th>MaritalStatus</th>\n",
       "      <th>DistanceFromHome</th>\n",
       "      <th>EducationField</th>\n",
       "      <th>Education</th>\n",
       "      <th>Department</th>\n",
       "      <th>JobLevel</th>\n",
       "      <th>JobRole</th>\n",
       "      <th>YearsAtCompany</th>\n",
       "      <th>TotalWorkingYears</th>\n",
       "      <th>NumCompaniesWorked</th>\n",
       "      <th>MonthlyIncome</th>\n",
       "      <th>PercentSalaryHike</th>\n",
       "      <th>BusinessTravel</th>\n",
       "      <th>TrainingTimesLastYear</th>\n",
       "      <th>YearsSinceLastPromotion</th>\n",
       "      <th>YearsWithCurrManager</th>\n",
       "      <th>JobInvolvement</th>\n",
       "      <th>EnvironmentSatisfaction</th>\n",
       "      <th>JobSatisfaction</th>\n",
       "      <th>WorkLifeBalance</th>\n",
       "      <th>PerformanceRating</th>\n",
       "      <th>StockOptionLevel</th>\n",
       "      <th>Attrition</th>\n",
       "    </tr>\n",
       "  </thead>\n",
       "  <tbody>\n",
       "    <tr>\n",
       "      <td>0</td>\n",
       "      <td>Female</td>\n",
       "      <td>51</td>\n",
       "      <td>Married</td>\n",
       "      <td>6</td>\n",
       "      <td>Life Sciences</td>\n",
       "      <td>2</td>\n",
       "      <td>Sales</td>\n",
       "      <td>1</td>\n",
       "      <td>Healthcare Representative</td>\n",
       "      <td>1</td>\n",
       "      <td>1</td>\n",
       "      <td>1</td>\n",
       "      <td>131160</td>\n",
       "      <td>11</td>\n",
       "      <td>Travel_Rarely</td>\n",
       "      <td>6</td>\n",
       "      <td>0</td>\n",
       "      <td>0</td>\n",
       "      <td>3</td>\n",
       "      <td>3</td>\n",
       "      <td>4</td>\n",
       "      <td>2</td>\n",
       "      <td>3</td>\n",
       "      <td>0</td>\n",
       "      <td>No</td>\n",
       "    </tr>\n",
       "    <tr>\n",
       "      <td>1</td>\n",
       "      <td>Female</td>\n",
       "      <td>31</td>\n",
       "      <td>Single</td>\n",
       "      <td>10</td>\n",
       "      <td>Life Sciences</td>\n",
       "      <td>1</td>\n",
       "      <td>Research &amp; Development</td>\n",
       "      <td>1</td>\n",
       "      <td>Research Scientist</td>\n",
       "      <td>5</td>\n",
       "      <td>6</td>\n",
       "      <td>0</td>\n",
       "      <td>41890</td>\n",
       "      <td>23</td>\n",
       "      <td>Travel_Frequently</td>\n",
       "      <td>3</td>\n",
       "      <td>1</td>\n",
       "      <td>4</td>\n",
       "      <td>2</td>\n",
       "      <td>3</td>\n",
       "      <td>2</td>\n",
       "      <td>4</td>\n",
       "      <td>4</td>\n",
       "      <td>1</td>\n",
       "      <td>Yes</td>\n",
       "    </tr>\n",
       "    <tr>\n",
       "      <td>2</td>\n",
       "      <td>Male</td>\n",
       "      <td>32</td>\n",
       "      <td>Married</td>\n",
       "      <td>17</td>\n",
       "      <td>Other</td>\n",
       "      <td>4</td>\n",
       "      <td>Research &amp; Development</td>\n",
       "      <td>4</td>\n",
       "      <td>Sales Executive</td>\n",
       "      <td>5</td>\n",
       "      <td>5</td>\n",
       "      <td>1</td>\n",
       "      <td>193280</td>\n",
       "      <td>15</td>\n",
       "      <td>Travel_Frequently</td>\n",
       "      <td>2</td>\n",
       "      <td>0</td>\n",
       "      <td>3</td>\n",
       "      <td>3</td>\n",
       "      <td>2</td>\n",
       "      <td>2</td>\n",
       "      <td>1</td>\n",
       "      <td>3</td>\n",
       "      <td>3</td>\n",
       "      <td>No</td>\n",
       "    </tr>\n",
       "    <tr>\n",
       "      <td>3</td>\n",
       "      <td>Male</td>\n",
       "      <td>38</td>\n",
       "      <td>Married</td>\n",
       "      <td>2</td>\n",
       "      <td>Life Sciences</td>\n",
       "      <td>5</td>\n",
       "      <td>Research &amp; Development</td>\n",
       "      <td>3</td>\n",
       "      <td>Human Resources</td>\n",
       "      <td>8</td>\n",
       "      <td>13</td>\n",
       "      <td>3</td>\n",
       "      <td>83210</td>\n",
       "      <td>11</td>\n",
       "      <td>Non-Travel</td>\n",
       "      <td>5</td>\n",
       "      <td>7</td>\n",
       "      <td>5</td>\n",
       "      <td>2</td>\n",
       "      <td>4</td>\n",
       "      <td>4</td>\n",
       "      <td>3</td>\n",
       "      <td>3</td>\n",
       "      <td>3</td>\n",
       "      <td>No</td>\n",
       "    </tr>\n",
       "    <tr>\n",
       "      <td>4</td>\n",
       "      <td>Male</td>\n",
       "      <td>32</td>\n",
       "      <td>Single</td>\n",
       "      <td>10</td>\n",
       "      <td>Medical</td>\n",
       "      <td>1</td>\n",
       "      <td>Research &amp; Development</td>\n",
       "      <td>1</td>\n",
       "      <td>Sales Executive</td>\n",
       "      <td>6</td>\n",
       "      <td>9</td>\n",
       "      <td>4</td>\n",
       "      <td>23420</td>\n",
       "      <td>12</td>\n",
       "      <td>Travel_Rarely</td>\n",
       "      <td>2</td>\n",
       "      <td>0</td>\n",
       "      <td>4</td>\n",
       "      <td>3</td>\n",
       "      <td>4</td>\n",
       "      <td>1</td>\n",
       "      <td>3</td>\n",
       "      <td>3</td>\n",
       "      <td>2</td>\n",
       "      <td>No</td>\n",
       "    </tr>\n",
       "    <tr>\n",
       "      <td>...</td>\n",
       "      <td>...</td>\n",
       "      <td>...</td>\n",
       "      <td>...</td>\n",
       "      <td>...</td>\n",
       "      <td>...</td>\n",
       "      <td>...</td>\n",
       "      <td>...</td>\n",
       "      <td>...</td>\n",
       "      <td>...</td>\n",
       "      <td>...</td>\n",
       "      <td>...</td>\n",
       "      <td>...</td>\n",
       "      <td>...</td>\n",
       "      <td>...</td>\n",
       "      <td>...</td>\n",
       "      <td>...</td>\n",
       "      <td>...</td>\n",
       "      <td>...</td>\n",
       "      <td>...</td>\n",
       "      <td>...</td>\n",
       "      <td>...</td>\n",
       "      <td>...</td>\n",
       "      <td>...</td>\n",
       "      <td>...</td>\n",
       "      <td>...</td>\n",
       "    </tr>\n",
       "    <tr>\n",
       "      <td>4405</td>\n",
       "      <td>Female</td>\n",
       "      <td>42</td>\n",
       "      <td>Single</td>\n",
       "      <td>5</td>\n",
       "      <td>Medical</td>\n",
       "      <td>4</td>\n",
       "      <td>Research &amp; Development</td>\n",
       "      <td>1</td>\n",
       "      <td>Research Scientist</td>\n",
       "      <td>3</td>\n",
       "      <td>10</td>\n",
       "      <td>3</td>\n",
       "      <td>60290</td>\n",
       "      <td>17</td>\n",
       "      <td>Travel_Rarely</td>\n",
       "      <td>5</td>\n",
       "      <td>0</td>\n",
       "      <td>2</td>\n",
       "      <td>3</td>\n",
       "      <td>4</td>\n",
       "      <td>1</td>\n",
       "      <td>3</td>\n",
       "      <td>3</td>\n",
       "      <td>1</td>\n",
       "      <td>No</td>\n",
       "    </tr>\n",
       "    <tr>\n",
       "      <td>4406</td>\n",
       "      <td>Male</td>\n",
       "      <td>29</td>\n",
       "      <td>Divorced</td>\n",
       "      <td>2</td>\n",
       "      <td>Medical</td>\n",
       "      <td>4</td>\n",
       "      <td>Research &amp; Development</td>\n",
       "      <td>1</td>\n",
       "      <td>Laboratory Technician</td>\n",
       "      <td>3</td>\n",
       "      <td>10</td>\n",
       "      <td>2</td>\n",
       "      <td>26790</td>\n",
       "      <td>15</td>\n",
       "      <td>Travel_Rarely</td>\n",
       "      <td>2</td>\n",
       "      <td>0</td>\n",
       "      <td>2</td>\n",
       "      <td>2</td>\n",
       "      <td>4</td>\n",
       "      <td>4</td>\n",
       "      <td>3</td>\n",
       "      <td>3</td>\n",
       "      <td>0</td>\n",
       "      <td>No</td>\n",
       "    </tr>\n",
       "    <tr>\n",
       "      <td>4407</td>\n",
       "      <td>Male</td>\n",
       "      <td>25</td>\n",
       "      <td>Married</td>\n",
       "      <td>25</td>\n",
       "      <td>Life Sciences</td>\n",
       "      <td>2</td>\n",
       "      <td>Research &amp; Development</td>\n",
       "      <td>2</td>\n",
       "      <td>Sales Executive</td>\n",
       "      <td>4</td>\n",
       "      <td>5</td>\n",
       "      <td>0</td>\n",
       "      <td>37020</td>\n",
       "      <td>20</td>\n",
       "      <td>Travel_Rarely</td>\n",
       "      <td>4</td>\n",
       "      <td>1</td>\n",
       "      <td>2</td>\n",
       "      <td>3</td>\n",
       "      <td>1</td>\n",
       "      <td>3</td>\n",
       "      <td>3</td>\n",
       "      <td>4</td>\n",
       "      <td>0</td>\n",
       "      <td>No</td>\n",
       "    </tr>\n",
       "    <tr>\n",
       "      <td>4408</td>\n",
       "      <td>Male</td>\n",
       "      <td>42</td>\n",
       "      <td>Divorced</td>\n",
       "      <td>18</td>\n",
       "      <td>Medical</td>\n",
       "      <td>2</td>\n",
       "      <td>Sales</td>\n",
       "      <td>1</td>\n",
       "      <td>Laboratory Technician</td>\n",
       "      <td>9</td>\n",
       "      <td>10</td>\n",
       "      <td>0</td>\n",
       "      <td>23980</td>\n",
       "      <td>14</td>\n",
       "      <td>Travel_Rarely</td>\n",
       "      <td>2</td>\n",
       "      <td>7</td>\n",
       "      <td>8</td>\n",
       "      <td>2</td>\n",
       "      <td>4</td>\n",
       "      <td>1</td>\n",
       "      <td>3</td>\n",
       "      <td>3</td>\n",
       "      <td>1</td>\n",
       "      <td>No</td>\n",
       "    </tr>\n",
       "    <tr>\n",
       "      <td>4409</td>\n",
       "      <td>Male</td>\n",
       "      <td>40</td>\n",
       "      <td>Divorced</td>\n",
       "      <td>28</td>\n",
       "      <td>Medical</td>\n",
       "      <td>3</td>\n",
       "      <td>Research &amp; Development</td>\n",
       "      <td>2</td>\n",
       "      <td>Laboratory Technician</td>\n",
       "      <td>21</td>\n",
       "      <td>10</td>\n",
       "      <td>0</td>\n",
       "      <td>54680</td>\n",
       "      <td>12</td>\n",
       "      <td>Travel_Rarely</td>\n",
       "      <td>6</td>\n",
       "      <td>3</td>\n",
       "      <td>9</td>\n",
       "      <td>4</td>\n",
       "      <td>1</td>\n",
       "      <td>3</td>\n",
       "      <td>3</td>\n",
       "      <td>3</td>\n",
       "      <td>0</td>\n",
       "      <td>No</td>\n",
       "    </tr>\n",
       "  </tbody>\n",
       "</table>\n",
       "<p>4410 rows × 25 columns</p>\n",
       "</div>"
      ],
      "text/plain": [
       "      Gender  Age MaritalStatus  DistanceFromHome EducationField  Education  \\\n",
       "0     Female   51       Married                 6  Life Sciences          2   \n",
       "1     Female   31        Single                10  Life Sciences          1   \n",
       "2       Male   32       Married                17          Other          4   \n",
       "3       Male   38       Married                 2  Life Sciences          5   \n",
       "4       Male   32        Single                10        Medical          1   \n",
       "...      ...  ...           ...               ...            ...        ...   \n",
       "4405  Female   42        Single                 5        Medical          4   \n",
       "4406    Male   29      Divorced                 2        Medical          4   \n",
       "4407    Male   25       Married                25  Life Sciences          2   \n",
       "4408    Male   42      Divorced                18        Medical          2   \n",
       "4409    Male   40      Divorced                28        Medical          3   \n",
       "\n",
       "                  Department  JobLevel                    JobRole  \\\n",
       "0                      Sales         1  Healthcare Representative   \n",
       "1     Research & Development         1         Research Scientist   \n",
       "2     Research & Development         4            Sales Executive   \n",
       "3     Research & Development         3            Human Resources   \n",
       "4     Research & Development         1            Sales Executive   \n",
       "...                      ...       ...                        ...   \n",
       "4405  Research & Development         1         Research Scientist   \n",
       "4406  Research & Development         1      Laboratory Technician   \n",
       "4407  Research & Development         2            Sales Executive   \n",
       "4408                   Sales         1      Laboratory Technician   \n",
       "4409  Research & Development         2      Laboratory Technician   \n",
       "\n",
       "      YearsAtCompany  TotalWorkingYears  NumCompaniesWorked  MonthlyIncome  \\\n",
       "0                  1                  1                   1         131160   \n",
       "1                  5                  6                   0          41890   \n",
       "2                  5                  5                   1         193280   \n",
       "3                  8                 13                   3          83210   \n",
       "4                  6                  9                   4          23420   \n",
       "...              ...                ...                 ...            ...   \n",
       "4405               3                 10                   3          60290   \n",
       "4406               3                 10                   2          26790   \n",
       "4407               4                  5                   0          37020   \n",
       "4408               9                 10                   0          23980   \n",
       "4409              21                 10                   0          54680   \n",
       "\n",
       "      PercentSalaryHike     BusinessTravel  TrainingTimesLastYear  \\\n",
       "0                    11      Travel_Rarely                      6   \n",
       "1                    23  Travel_Frequently                      3   \n",
       "2                    15  Travel_Frequently                      2   \n",
       "3                    11         Non-Travel                      5   \n",
       "4                    12      Travel_Rarely                      2   \n",
       "...                 ...                ...                    ...   \n",
       "4405                 17      Travel_Rarely                      5   \n",
       "4406                 15      Travel_Rarely                      2   \n",
       "4407                 20      Travel_Rarely                      4   \n",
       "4408                 14      Travel_Rarely                      2   \n",
       "4409                 12      Travel_Rarely                      6   \n",
       "\n",
       "      YearsSinceLastPromotion  YearsWithCurrManager  JobInvolvement  \\\n",
       "0                           0                     0               3   \n",
       "1                           1                     4               2   \n",
       "2                           0                     3               3   \n",
       "3                           7                     5               2   \n",
       "4                           0                     4               3   \n",
       "...                       ...                   ...             ...   \n",
       "4405                        0                     2               3   \n",
       "4406                        0                     2               2   \n",
       "4407                        1                     2               3   \n",
       "4408                        7                     8               2   \n",
       "4409                        3                     9               4   \n",
       "\n",
       "      EnvironmentSatisfaction  JobSatisfaction  WorkLifeBalance  \\\n",
       "0                           3                4                2   \n",
       "1                           3                2                4   \n",
       "2                           2                2                1   \n",
       "3                           4                4                3   \n",
       "4                           4                1                3   \n",
       "...                       ...              ...              ...   \n",
       "4405                        4                1                3   \n",
       "4406                        4                4                3   \n",
       "4407                        1                3                3   \n",
       "4408                        4                1                3   \n",
       "4409                        1                3                3   \n",
       "\n",
       "      PerformanceRating  StockOptionLevel Attrition  \n",
       "0                     3                 0        No  \n",
       "1                     4                 1       Yes  \n",
       "2                     3                 3        No  \n",
       "3                     3                 3        No  \n",
       "4                     3                 2        No  \n",
       "...                 ...               ...       ...  \n",
       "4405                  3                 1        No  \n",
       "4406                  3                 0        No  \n",
       "4407                  4                 0        No  \n",
       "4408                  3                 1        No  \n",
       "4409                  3                 0        No  \n",
       "\n",
       "[4410 rows x 25 columns]"
      ]
     },
     "execution_count": 5,
     "metadata": {},
     "output_type": "execute_result"
    }
   ],
   "source": [
    "full_data_clean_gen = full_data_clean_gen.drop(columns = ['EmployeeCount','EmployeeID','StandardHours','Over18','Generation'])\n",
    "full_data_clean_gen"
   ]
  },
  {
   "cell_type": "code",
   "execution_count": 6,
   "metadata": {},
   "outputs": [
    {
     "name": "stdout",
     "output_type": "stream",
     "text": [
      "<class 'pandas.core.frame.DataFrame'>\n",
      "RangeIndex: 4410 entries, 0 to 4409\n",
      "Data columns (total 25 columns):\n",
      "Gender                     4410 non-null object\n",
      "Age                        4410 non-null int64\n",
      "MaritalStatus              4410 non-null object\n",
      "DistanceFromHome           4410 non-null int64\n",
      "EducationField             4410 non-null object\n",
      "Education                  4410 non-null int64\n",
      "Department                 4410 non-null object\n",
      "JobLevel                   4410 non-null int64\n",
      "JobRole                    4410 non-null object\n",
      "YearsAtCompany             4410 non-null int64\n",
      "TotalWorkingYears          4410 non-null int64\n",
      "NumCompaniesWorked         4410 non-null int64\n",
      "MonthlyIncome              4410 non-null int64\n",
      "PercentSalaryHike          4410 non-null int64\n",
      "BusinessTravel             4410 non-null object\n",
      "TrainingTimesLastYear      4410 non-null int64\n",
      "YearsSinceLastPromotion    4410 non-null int64\n",
      "YearsWithCurrManager       4410 non-null int64\n",
      "JobInvolvement             4410 non-null int64\n",
      "EnvironmentSatisfaction    4410 non-null int64\n",
      "JobSatisfaction            4410 non-null int64\n",
      "WorkLifeBalance            4410 non-null int64\n",
      "PerformanceRating          4410 non-null int64\n",
      "StockOptionLevel           4410 non-null int64\n",
      "Attrition                  4410 non-null object\n",
      "dtypes: int64(18), object(7)\n",
      "memory usage: 861.5+ KB\n"
     ]
    }
   ],
   "source": [
    "full_data_clean_gen.info()"
   ]
  },
  {
   "cell_type": "code",
   "execution_count": 7,
   "metadata": {},
   "outputs": [],
   "source": [
    "categorical_features = list(full_data_clean_gen.select_dtypes(include = [object]))\n",
    "\n",
    "numerical_features = list(full_data_clean_gen.select_dtypes(exclude = [object])) \n",
    "#check again for the number of datatypes other than object"
   ]
  },
  {
   "cell_type": "code",
   "execution_count": 8,
   "metadata": {},
   "outputs": [
    {
     "data": {
      "text/plain": [
       "['Gender',\n",
       " 'MaritalStatus',\n",
       " 'EducationField',\n",
       " 'Department',\n",
       " 'JobRole',\n",
       " 'BusinessTravel',\n",
       " 'Attrition']"
      ]
     },
     "execution_count": 8,
     "metadata": {},
     "output_type": "execute_result"
    }
   ],
   "source": [
    "categorical_features"
   ]
  },
  {
   "cell_type": "code",
   "execution_count": 9,
   "metadata": {},
   "outputs": [
    {
     "data": {
      "text/plain": [
       "['Age',\n",
       " 'DistanceFromHome',\n",
       " 'Education',\n",
       " 'JobLevel',\n",
       " 'YearsAtCompany',\n",
       " 'TotalWorkingYears',\n",
       " 'NumCompaniesWorked',\n",
       " 'MonthlyIncome',\n",
       " 'PercentSalaryHike',\n",
       " 'TrainingTimesLastYear',\n",
       " 'YearsSinceLastPromotion',\n",
       " 'YearsWithCurrManager',\n",
       " 'JobInvolvement',\n",
       " 'EnvironmentSatisfaction',\n",
       " 'JobSatisfaction',\n",
       " 'WorkLifeBalance',\n",
       " 'PerformanceRating',\n",
       " 'StockOptionLevel']"
      ]
     },
     "execution_count": 9,
     "metadata": {},
     "output_type": "execute_result"
    }
   ],
   "source": [
    "numerical_features"
   ]
  },
  {
   "cell_type": "markdown",
   "metadata": {},
   "source": [
    "Categorical values will have to be encoded in order for machine learning to work.\n",
    "For Categorical Features, there are those values containing 2 categories and other features containing more than 2 categories.\n",
    "\n",
    "For features containing just 2 categories, LabelEncoder is used ('Gender', 'Attrition'\n",
    "For features containing more than 2 categories, OneHot Encoder is used (the original features will be dropped as well)"
   ]
  },
  {
   "cell_type": "code",
   "execution_count": 10,
   "metadata": {},
   "outputs": [],
   "source": [
    "cat_feat1 = ['Attrition','Gender'] #to be encoded with LabelEncoder\n",
    "cat_feat2 = ['MaritalStatus','EducationField','Department','JobRole','BusinessTravel'] \n",
    "#to be encoded using pandas dummy variable (similar to that of OneHotEncoder)"
   ]
  },
  {
   "cell_type": "code",
   "execution_count": 11,
   "metadata": {},
   "outputs": [],
   "source": [
    "LabEnc = LabelEncoder()\n",
    "for feat in cat_feat1:\n",
    "    full_data_clean_gen[feat] = LabEnc.fit_transform(full_data_clean_gen[feat])"
   ]
  },
  {
   "cell_type": "code",
   "execution_count": 12,
   "metadata": {},
   "outputs": [
    {
     "name": "stdout",
     "output_type": "stream",
     "text": [
      "<class 'pandas.core.frame.DataFrame'>\n",
      "RangeIndex: 4410 entries, 0 to 4409\n",
      "Data columns (total 25 columns):\n",
      "Gender                     4410 non-null int32\n",
      "Age                        4410 non-null int64\n",
      "MaritalStatus              4410 non-null object\n",
      "DistanceFromHome           4410 non-null int64\n",
      "EducationField             4410 non-null object\n",
      "Education                  4410 non-null int64\n",
      "Department                 4410 non-null object\n",
      "JobLevel                   4410 non-null int64\n",
      "JobRole                    4410 non-null object\n",
      "YearsAtCompany             4410 non-null int64\n",
      "TotalWorkingYears          4410 non-null int64\n",
      "NumCompaniesWorked         4410 non-null int64\n",
      "MonthlyIncome              4410 non-null int64\n",
      "PercentSalaryHike          4410 non-null int64\n",
      "BusinessTravel             4410 non-null object\n",
      "TrainingTimesLastYear      4410 non-null int64\n",
      "YearsSinceLastPromotion    4410 non-null int64\n",
      "YearsWithCurrManager       4410 non-null int64\n",
      "JobInvolvement             4410 non-null int64\n",
      "EnvironmentSatisfaction    4410 non-null int64\n",
      "JobSatisfaction            4410 non-null int64\n",
      "WorkLifeBalance            4410 non-null int64\n",
      "PerformanceRating          4410 non-null int64\n",
      "StockOptionLevel           4410 non-null int64\n",
      "Attrition                  4410 non-null int32\n",
      "dtypes: int32(2), int64(18), object(5)\n",
      "memory usage: 827.0+ KB\n"
     ]
    }
   ],
   "source": [
    "full_data_clean_gen.info()"
   ]
  },
  {
   "cell_type": "code",
   "execution_count": 13,
   "metadata": {},
   "outputs": [],
   "source": [
    "full_data_clean_gen= pd.get_dummies(full_data_clean_gen, prefix=cat_feat2, columns= cat_feat2)"
   ]
  },
  {
   "cell_type": "code",
   "execution_count": 14,
   "metadata": {},
   "outputs": [
    {
     "name": "stdout",
     "output_type": "stream",
     "text": [
      "<class 'pandas.core.frame.DataFrame'>\n",
      "RangeIndex: 4410 entries, 0 to 4409\n",
      "Data columns (total 44 columns):\n",
      "Gender                               4410 non-null int32\n",
      "Age                                  4410 non-null int64\n",
      "DistanceFromHome                     4410 non-null int64\n",
      "Education                            4410 non-null int64\n",
      "JobLevel                             4410 non-null int64\n",
      "YearsAtCompany                       4410 non-null int64\n",
      "TotalWorkingYears                    4410 non-null int64\n",
      "NumCompaniesWorked                   4410 non-null int64\n",
      "MonthlyIncome                        4410 non-null int64\n",
      "PercentSalaryHike                    4410 non-null int64\n",
      "TrainingTimesLastYear                4410 non-null int64\n",
      "YearsSinceLastPromotion              4410 non-null int64\n",
      "YearsWithCurrManager                 4410 non-null int64\n",
      "JobInvolvement                       4410 non-null int64\n",
      "EnvironmentSatisfaction              4410 non-null int64\n",
      "JobSatisfaction                      4410 non-null int64\n",
      "WorkLifeBalance                      4410 non-null int64\n",
      "PerformanceRating                    4410 non-null int64\n",
      "StockOptionLevel                     4410 non-null int64\n",
      "Attrition                            4410 non-null int32\n",
      "MaritalStatus_Divorced               4410 non-null uint8\n",
      "MaritalStatus_Married                4410 non-null uint8\n",
      "MaritalStatus_Single                 4410 non-null uint8\n",
      "EducationField_Human Resources       4410 non-null uint8\n",
      "EducationField_Life Sciences         4410 non-null uint8\n",
      "EducationField_Marketing             4410 non-null uint8\n",
      "EducationField_Medical               4410 non-null uint8\n",
      "EducationField_Other                 4410 non-null uint8\n",
      "EducationField_Technical Degree      4410 non-null uint8\n",
      "Department_Human Resources           4410 non-null uint8\n",
      "Department_Research & Development    4410 non-null uint8\n",
      "Department_Sales                     4410 non-null uint8\n",
      "JobRole_Healthcare Representative    4410 non-null uint8\n",
      "JobRole_Human Resources              4410 non-null uint8\n",
      "JobRole_Laboratory Technician        4410 non-null uint8\n",
      "JobRole_Manager                      4410 non-null uint8\n",
      "JobRole_Manufacturing Director       4410 non-null uint8\n",
      "JobRole_Research Director            4410 non-null uint8\n",
      "JobRole_Research Scientist           4410 non-null uint8\n",
      "JobRole_Sales Executive              4410 non-null uint8\n",
      "JobRole_Sales Representative         4410 non-null uint8\n",
      "BusinessTravel_Non-Travel            4410 non-null uint8\n",
      "BusinessTravel_Travel_Frequently     4410 non-null uint8\n",
      "BusinessTravel_Travel_Rarely         4410 non-null uint8\n",
      "dtypes: int32(2), int64(18), uint8(24)\n",
      "memory usage: 758.1 KB\n"
     ]
    }
   ],
   "source": [
    "full_data_clean_gen.info()"
   ]
  },
  {
   "cell_type": "code",
   "execution_count": 15,
   "metadata": {},
   "outputs": [],
   "source": [
    "full_data_clean_gen.to_csv('Dataset/full_data_ready_encode.csv', index = False) "
   ]
  },
  {
   "cell_type": "markdown",
   "metadata": {},
   "source": [
    "In this new dataframe, the new encoded categorical values have been changed and concatenated"
   ]
  },
  {
   "cell_type": "code",
   "execution_count": 16,
   "metadata": {},
   "outputs": [],
   "source": [
    "full_data_ready_encode = pd.read_csv('Dataset/full_data_ready_encode.csv')"
   ]
  },
  {
   "cell_type": "code",
   "execution_count": 17,
   "metadata": {},
   "outputs": [
    {
     "name": "stdout",
     "output_type": "stream",
     "text": [
      "<class 'pandas.core.frame.DataFrame'>\n",
      "RangeIndex: 4410 entries, 0 to 4409\n",
      "Data columns (total 44 columns):\n",
      "Gender                               4410 non-null int64\n",
      "Age                                  4410 non-null int64\n",
      "DistanceFromHome                     4410 non-null int64\n",
      "Education                            4410 non-null int64\n",
      "JobLevel                             4410 non-null int64\n",
      "YearsAtCompany                       4410 non-null int64\n",
      "TotalWorkingYears                    4410 non-null int64\n",
      "NumCompaniesWorked                   4410 non-null int64\n",
      "MonthlyIncome                        4410 non-null int64\n",
      "PercentSalaryHike                    4410 non-null int64\n",
      "TrainingTimesLastYear                4410 non-null int64\n",
      "YearsSinceLastPromotion              4410 non-null int64\n",
      "YearsWithCurrManager                 4410 non-null int64\n",
      "JobInvolvement                       4410 non-null int64\n",
      "EnvironmentSatisfaction              4410 non-null int64\n",
      "JobSatisfaction                      4410 non-null int64\n",
      "WorkLifeBalance                      4410 non-null int64\n",
      "PerformanceRating                    4410 non-null int64\n",
      "StockOptionLevel                     4410 non-null int64\n",
      "Attrition                            4410 non-null int64\n",
      "MaritalStatus_Divorced               4410 non-null int64\n",
      "MaritalStatus_Married                4410 non-null int64\n",
      "MaritalStatus_Single                 4410 non-null int64\n",
      "EducationField_Human Resources       4410 non-null int64\n",
      "EducationField_Life Sciences         4410 non-null int64\n",
      "EducationField_Marketing             4410 non-null int64\n",
      "EducationField_Medical               4410 non-null int64\n",
      "EducationField_Other                 4410 non-null int64\n",
      "EducationField_Technical Degree      4410 non-null int64\n",
      "Department_Human Resources           4410 non-null int64\n",
      "Department_Research & Development    4410 non-null int64\n",
      "Department_Sales                     4410 non-null int64\n",
      "JobRole_Healthcare Representative    4410 non-null int64\n",
      "JobRole_Human Resources              4410 non-null int64\n",
      "JobRole_Laboratory Technician        4410 non-null int64\n",
      "JobRole_Manager                      4410 non-null int64\n",
      "JobRole_Manufacturing Director       4410 non-null int64\n",
      "JobRole_Research Director            4410 non-null int64\n",
      "JobRole_Research Scientist           4410 non-null int64\n",
      "JobRole_Sales Executive              4410 non-null int64\n",
      "JobRole_Sales Representative         4410 non-null int64\n",
      "BusinessTravel_Non-Travel            4410 non-null int64\n",
      "BusinessTravel_Travel_Frequently     4410 non-null int64\n",
      "BusinessTravel_Travel_Rarely         4410 non-null int64\n",
      "dtypes: int64(44)\n",
      "memory usage: 1.5 MB\n"
     ]
    }
   ],
   "source": [
    "full_data_ready_encode.info()"
   ]
  },
  {
   "cell_type": "markdown",
   "metadata": {},
   "source": [
    "## Splitting data Train/Test 80/20 Unscaled, feature total: 44"
   ]
  },
  {
   "cell_type": "markdown",
   "metadata": {},
   "source": [
    "### Note for variable allocation\n",
    "1. Unscaled : x1_train, x1_test, y1_train, y1_test\n",
    "2. Scaled : x_train_robust, x_test_robust, y_train_robust, y_test_robust"
   ]
  },
  {
   "cell_type": "code",
   "execution_count": 19,
   "metadata": {},
   "outputs": [],
   "source": [
    "x1 = full_data_ready_encode.drop('Attrition', axis = 1)\n",
    "y1 = full_data_ready_encode['Attrition']"
   ]
  },
  {
   "cell_type": "code",
   "execution_count": 21,
   "metadata": {},
   "outputs": [],
   "source": [
    "x1_train, x1_test, y1_train, y1_test = train_test_split(x1,y1,test_size = 0.20,random_state = 42)"
   ]
  },
  {
   "cell_type": "code",
   "execution_count": 42,
   "metadata": {},
   "outputs": [
    {
     "name": "stdout",
     "output_type": "stream",
     "text": [
      "[[739   2]\n",
      " [139   2]]\n"
     ]
    },
    {
     "name": "stderr",
     "output_type": "stream",
     "text": [
      "C:\\Users\\Azizur Rachman\\Anaconda3\\lib\\site-packages\\sklearn\\linear_model\\_logistic.py:940: ConvergenceWarning: lbfgs failed to converge (status=1):\n",
      "STOP: TOTAL NO. of ITERATIONS REACHED LIMIT.\n",
      "\n",
      "Increase the number of iterations (max_iter) or scale the data as shown in:\n",
      "    https://scikit-learn.org/stable/modules/preprocessing.html\n",
      "Please also refer to the documentation for alternative solver options:\n",
      "    https://scikit-learn.org/stable/modules/linear_model.html#logistic-regression\n",
      "  extra_warning_msg=_LOGISTIC_SOLVER_CONVERGENCE_MSG)\n"
     ]
    },
    {
     "data": {
      "image/png": "[encoded data removed]",
      "text/plain": [
       "<Figure size 576x360 with 2 Axes>"
      ]
     },
     "metadata": {
      "needs_background": "light"
     },
     "output_type": "display_data"
    },
    {
     "name": "stdout",
     "output_type": "stream",
     "text": [
      "              precision    recall  f1-score   support\n",
      "\n",
      "           0       0.84      1.00      0.91       741\n",
      "           1       0.50      0.01      0.03       141\n",
      "\n",
      "    accuracy                           0.84       882\n",
      "   macro avg       0.67      0.51      0.47       882\n",
      "weighted avg       0.79      0.84      0.77       882\n",
      "\n",
      "Train score: 83.84%\n",
      "Test score: 84.01%\n",
      "\n",
      "Logistic Regression Cross Validation Score: 83.9%\n",
      "\n"
     ]
    },
    {
     "name": "stderr",
     "output_type": "stream",
     "text": [
      "C:\\Users\\Azizur Rachman\\Anaconda3\\lib\\site-packages\\sklearn\\linear_model\\_logistic.py:940: ConvergenceWarning: lbfgs failed to converge (status=1):\n",
      "STOP: TOTAL NO. of ITERATIONS REACHED LIMIT.\n",
      "\n",
      "Increase the number of iterations (max_iter) or scale the data as shown in:\n",
      "    https://scikit-learn.org/stable/modules/preprocessing.html\n",
      "Please also refer to the documentation for alternative solver options:\n",
      "    https://scikit-learn.org/stable/modules/linear_model.html#logistic-regression\n",
      "  extra_warning_msg=_LOGISTIC_SOLVER_CONVERGENCE_MSG)\n",
      "C:\\Users\\Azizur Rachman\\Anaconda3\\lib\\site-packages\\sklearn\\linear_model\\_logistic.py:940: ConvergenceWarning: lbfgs failed to converge (status=1):\n",
      "STOP: TOTAL NO. of ITERATIONS REACHED LIMIT.\n",
      "\n",
      "Increase the number of iterations (max_iter) or scale the data as shown in:\n",
      "    https://scikit-learn.org/stable/modules/preprocessing.html\n",
      "Please also refer to the documentation for alternative solver options:\n",
      "    https://scikit-learn.org/stable/modules/linear_model.html#logistic-regression\n",
      "  extra_warning_msg=_LOGISTIC_SOLVER_CONVERGENCE_MSG)\n"
     ]
    }
   ],
   "source": [
    "log1 = LogisticRegression(solver='lbfgs',penalty='l2', max_iter=100, random_state=1)\n",
    "log1.fit(x1_train, y1_train)\n",
    "\n",
    "y1_pred = log1.predict(x1_test)\n",
    "\n",
    "print(confusion_matrix(y1_test, y1_pred))\n",
    "\n",
    "f, ax = plt.subplots(figsize=(8,5))\n",
    "sns.heatmap(confusion_matrix(y1_test, y1_pred), annot=True, fmt=\".0f\", ax=ax)\n",
    "plt.xlabel(\"Y Predict\")\n",
    "plt.ylabel(\"Y Actual\")\n",
    "plt.show()\n",
    "\n",
    "print(classification_report(y1_test, y1_pred))\n",
    "print(f'Train score: {round(log1.score(x1_train, y1_train)*100, 2)}%')\n",
    "print(f'Test score: {round(log1.score(x1_test, y1_test)*100, 2)}%\\n')\n",
    "\n",
    "log1_score = cross_val_score(log1, x1_test, y1_test, cv=10).mean()\n",
    "print(f'Logistic Regression Cross Validation Score: {round(log1_score*100, 2)}%\\n')"
   ]
  },
  {
   "cell_type": "code",
   "execution_count": 40,
   "metadata": {},
   "outputs": [
    {
     "name": "stdout",
     "output_type": "stream",
     "text": [
      "[[741   0]\n",
      " [  6 135]]\n"
     ]
    },
    {
     "data": {
      "image/png": "[encoded data removed]",
      "text/plain": [
       "<Figure size 576x360 with 2 Axes>"
      ]
     },
     "metadata": {
      "needs_background": "light"
     },
     "output_type": "display_data"
    },
    {
     "name": "stdout",
     "output_type": "stream",
     "text": [
      "              precision    recall  f1-score   support\n",
      "\n",
      "           0       0.99      1.00      1.00       741\n",
      "           1       1.00      0.96      0.98       141\n",
      "\n",
      "    accuracy                           0.99       882\n",
      "   macro avg       1.00      0.98      0.99       882\n",
      "weighted avg       0.99      0.99      0.99       882\n",
      "\n",
      "Train score: 100.0%\n",
      "Test score: 99.32%\n",
      "\n",
      "RandomForest Cross Validation Score: 88.89%\n",
      "\n"
     ]
    }
   ],
   "source": [
    "rfc1 = RandomForestClassifier(criterion='gini', max_depth=None, min_samples_split=2, min_samples_leaf=1,\n",
    "                              n_estimators=100,random_state=1)\n",
    "rfc1.fit(x1_train, y1_train)\n",
    "\n",
    "y1_pred = rfc1.predict(x1_test)\n",
    "\n",
    "print(confusion_matrix(y1_test, y1_pred))\n",
    "\n",
    "f, ax = plt.subplots(figsize=(8,5))\n",
    "sns.heatmap(confusion_matrix(y1_test, y1_pred), annot=True, fmt=\".0f\", ax=ax)\n",
    "plt.xlabel(\"Y Predict\")\n",
    "plt.ylabel(\"Y Actual\")\n",
    "plt.show()\n",
    "\n",
    "print(classification_report(y1_test, y1_pred))\n",
    "print(f'Train score: {round(rfc1.score(x1_train, y1_train)*100, 2)}%')\n",
    "print(f'Test score: {round(rfc1.score(x1_test, y1_test)*100, 2)}%\\n')\n",
    "\n",
    "rfc1_score = cross_val_score(rfc1, x1_test, y1_test, cv=10).mean()\n",
    "print(f'RandomForest Cross Validation Score: {round(rfc1_score*100, 2)}%\\n')"
   ]
  },
  {
   "cell_type": "code",
   "execution_count": 59,
   "metadata": {},
   "outputs": [
    {
     "name": "stdout",
     "output_type": "stream",
     "text": [
      "[[673  68]\n",
      " [100  41]]\n"
     ]
    },
    {
     "data": {
      "image/png": "[encoded data removed]",
      "text/plain": [
       "<Figure size 576x360 with 2 Axes>"
      ]
     },
     "metadata": {
      "needs_background": "light"
     },
     "output_type": "display_data"
    },
    {
     "name": "stdout",
     "output_type": "stream",
     "text": [
      "              precision    recall  f1-score   support\n",
      "\n",
      "           0       0.87      0.91      0.89       741\n",
      "           1       0.38      0.29      0.33       141\n",
      "\n",
      "    accuracy                           0.81       882\n",
      "   macro avg       0.62      0.60      0.61       882\n",
      "weighted avg       0.79      0.81      0.80       882\n",
      "\n",
      "Train score: 93.28%\n",
      "Test score: 80.95%\n",
      "\n",
      "K Nearest Neighbours Validation Score: 81.52%\n",
      "\n"
     ]
    }
   ],
   "source": [
    "knn1 = KNeighborsClassifier(n_neighbors=5,\n",
    "                                  algorithm='auto')\n",
    "knn1.fit(x1_train, y1_train)\n",
    "\n",
    "y1_pred = knn1.predict(x1_test)\n",
    "\n",
    "print(confusion_matrix(y1_test, y1_pred))\n",
    "\n",
    "f, ax = plt.subplots(figsize=(8,5))\n",
    "sns.heatmap(confusion_matrix(y1_test, y1_pred), annot=True, fmt=\".0f\", ax=ax)\n",
    "plt.xlabel(\"Y Predict\")\n",
    "plt.ylabel(\"Y Actual\")\n",
    "plt.show()\n",
    "\n",
    "\n",
    "print(classification_report(y1_test, y1_pred))\n",
    "print(f'Train score: {round(knn1.score(x1_train, y1_train)*100, 2)}%')\n",
    "print(f'Test score: {round(knn1.score(x1_test, y1_test)*100, 2)}%\\n')\n",
    "\n",
    "knn1_score = cross_val_score(knn1, x1_test, y1_test, cv=10).mean()\n",
    "print(f'K Nearest Neighbours Validation Score: {round(knn1_score*100, 2)}%\\n')"
   ]
  },
  {
   "cell_type": "markdown",
   "metadata": {},
   "source": [
    "## Robust Scaler"
   ]
  },
  {
   "cell_type": "code",
   "execution_count": 50,
   "metadata": {},
   "outputs": [],
   "source": [
    "num_feats = ['Age','DistanceFromHome','Education','JobLevel','YearsAtCompany',\n",
    "             'TotalWorkingYears','NumCompaniesWorked','MonthlyIncome','PercentSalaryHike','TrainingTimesLastYear',\n",
    "             'YearsSinceLastPromotion','YearsWithCurrManager','JobInvolvement','EnvironmentSatisfaction','JobSatisfaction',\n",
    "             'WorkLifeBalance','PerformanceRating','StockOptionLevel'] "
   ]
  },
  {
   "cell_type": "code",
   "execution_count": 52,
   "metadata": {},
   "outputs": [
    {
     "data": {
      "text/html": [
       "<div>\n",
       "<style scoped>\n",
       "    .dataframe tbody tr th:only-of-type {\n",
       "        vertical-align: middle;\n",
       "    }\n",
       "\n",
       "    .dataframe tbody tr th {\n",
       "        vertical-align: top;\n",
       "    }\n",
       "\n",
       "    .dataframe thead th {\n",
       "        text-align: right;\n",
       "    }\n",
       "</style>\n",
       "<table border=\"1\" class=\"dataframe\">\n",
       "  <thead>\n",
       "    <tr style=\"text-align: right;\">\n",
       "      <th></th>\n",
       "      <th>Age</th>\n",
       "      <th>DistanceFromHome</th>\n",
       "      <th>Education</th>\n",
       "      <th>JobLevel</th>\n",
       "      <th>YearsAtCompany</th>\n",
       "      <th>TotalWorkingYears</th>\n",
       "      <th>NumCompaniesWorked</th>\n",
       "      <th>MonthlyIncome</th>\n",
       "      <th>PercentSalaryHike</th>\n",
       "      <th>TrainingTimesLastYear</th>\n",
       "      <th>YearsSinceLastPromotion</th>\n",
       "      <th>YearsWithCurrManager</th>\n",
       "      <th>JobInvolvement</th>\n",
       "      <th>EnvironmentSatisfaction</th>\n",
       "      <th>JobSatisfaction</th>\n",
       "      <th>WorkLifeBalance</th>\n",
       "      <th>PerformanceRating</th>\n",
       "      <th>StockOptionLevel</th>\n",
       "      <th>Gender</th>\n",
       "      <th>Attrition</th>\n",
       "      <th>MaritalStatus_Divorced</th>\n",
       "      <th>MaritalStatus_Married</th>\n",
       "      <th>MaritalStatus_Single</th>\n",
       "      <th>EducationField_Human Resources</th>\n",
       "      <th>EducationField_Life Sciences</th>\n",
       "      <th>EducationField_Marketing</th>\n",
       "      <th>EducationField_Medical</th>\n",
       "      <th>EducationField_Other</th>\n",
       "      <th>EducationField_Technical Degree</th>\n",
       "      <th>Department_Human Resources</th>\n",
       "      <th>Department_Research &amp; Development</th>\n",
       "      <th>Department_Sales</th>\n",
       "      <th>JobRole_Healthcare Representative</th>\n",
       "      <th>JobRole_Human Resources</th>\n",
       "      <th>JobRole_Laboratory Technician</th>\n",
       "      <th>JobRole_Manager</th>\n",
       "      <th>JobRole_Manufacturing Director</th>\n",
       "      <th>JobRole_Research Director</th>\n",
       "      <th>JobRole_Research Scientist</th>\n",
       "      <th>JobRole_Sales Executive</th>\n",
       "      <th>JobRole_Sales Representative</th>\n",
       "      <th>BusinessTravel_Non-Travel</th>\n",
       "      <th>BusinessTravel_Travel_Frequently</th>\n",
       "      <th>BusinessTravel_Travel_Rarely</th>\n",
       "    </tr>\n",
       "  </thead>\n",
       "  <tbody>\n",
       "    <tr>\n",
       "      <td>0</td>\n",
       "      <td>1.153846</td>\n",
       "      <td>-0.083333</td>\n",
       "      <td>-0.5</td>\n",
       "      <td>-0.5</td>\n",
       "      <td>-0.666667</td>\n",
       "      <td>-1.000000</td>\n",
       "      <td>-0.333333</td>\n",
       "      <td>1.498811</td>\n",
       "      <td>-0.500000</td>\n",
       "      <td>3.0</td>\n",
       "      <td>-0.333333</td>\n",
       "      <td>-0.6</td>\n",
       "      <td>0.0</td>\n",
       "      <td>0.0</td>\n",
       "      <td>0.5</td>\n",
       "      <td>-1.0</td>\n",
       "      <td>0.0</td>\n",
       "      <td>-1.0</td>\n",
       "      <td>0</td>\n",
       "      <td>0</td>\n",
       "      <td>0</td>\n",
       "      <td>1</td>\n",
       "      <td>0</td>\n",
       "      <td>0</td>\n",
       "      <td>1</td>\n",
       "      <td>0</td>\n",
       "      <td>0</td>\n",
       "      <td>0</td>\n",
       "      <td>0</td>\n",
       "      <td>0</td>\n",
       "      <td>0</td>\n",
       "      <td>1</td>\n",
       "      <td>1</td>\n",
       "      <td>0</td>\n",
       "      <td>0</td>\n",
       "      <td>0</td>\n",
       "      <td>0</td>\n",
       "      <td>0</td>\n",
       "      <td>0</td>\n",
       "      <td>0</td>\n",
       "      <td>0</td>\n",
       "      <td>0</td>\n",
       "      <td>0</td>\n",
       "      <td>1</td>\n",
       "    </tr>\n",
       "    <tr>\n",
       "      <td>1</td>\n",
       "      <td>-0.384615</td>\n",
       "      <td>0.250000</td>\n",
       "      <td>-1.0</td>\n",
       "      <td>-0.5</td>\n",
       "      <td>0.000000</td>\n",
       "      <td>-0.444444</td>\n",
       "      <td>-0.666667</td>\n",
       "      <td>-0.133480</td>\n",
       "      <td>1.500000</td>\n",
       "      <td>0.0</td>\n",
       "      <td>0.000000</td>\n",
       "      <td>0.2</td>\n",
       "      <td>-1.0</td>\n",
       "      <td>0.0</td>\n",
       "      <td>-0.5</td>\n",
       "      <td>1.0</td>\n",
       "      <td>1.0</td>\n",
       "      <td>0.0</td>\n",
       "      <td>0</td>\n",
       "      <td>1</td>\n",
       "      <td>0</td>\n",
       "      <td>0</td>\n",
       "      <td>1</td>\n",
       "      <td>0</td>\n",
       "      <td>1</td>\n",
       "      <td>0</td>\n",
       "      <td>0</td>\n",
       "      <td>0</td>\n",
       "      <td>0</td>\n",
       "      <td>0</td>\n",
       "      <td>1</td>\n",
       "      <td>0</td>\n",
       "      <td>0</td>\n",
       "      <td>0</td>\n",
       "      <td>0</td>\n",
       "      <td>0</td>\n",
       "      <td>0</td>\n",
       "      <td>0</td>\n",
       "      <td>1</td>\n",
       "      <td>0</td>\n",
       "      <td>0</td>\n",
       "      <td>0</td>\n",
       "      <td>1</td>\n",
       "      <td>0</td>\n",
       "    </tr>\n",
       "    <tr>\n",
       "      <td>2</td>\n",
       "      <td>-0.307692</td>\n",
       "      <td>0.833333</td>\n",
       "      <td>0.5</td>\n",
       "      <td>1.0</td>\n",
       "      <td>0.000000</td>\n",
       "      <td>-0.555556</td>\n",
       "      <td>-0.333333</td>\n",
       "      <td>2.634668</td>\n",
       "      <td>0.166667</td>\n",
       "      <td>-1.0</td>\n",
       "      <td>-0.333333</td>\n",
       "      <td>0.0</td>\n",
       "      <td>0.0</td>\n",
       "      <td>-0.5</td>\n",
       "      <td>-0.5</td>\n",
       "      <td>-2.0</td>\n",
       "      <td>0.0</td>\n",
       "      <td>2.0</td>\n",
       "      <td>1</td>\n",
       "      <td>0</td>\n",
       "      <td>0</td>\n",
       "      <td>1</td>\n",
       "      <td>0</td>\n",
       "      <td>0</td>\n",
       "      <td>0</td>\n",
       "      <td>0</td>\n",
       "      <td>0</td>\n",
       "      <td>1</td>\n",
       "      <td>0</td>\n",
       "      <td>0</td>\n",
       "      <td>1</td>\n",
       "      <td>0</td>\n",
       "      <td>0</td>\n",
       "      <td>0</td>\n",
       "      <td>0</td>\n",
       "      <td>0</td>\n",
       "      <td>0</td>\n",
       "      <td>0</td>\n",
       "      <td>0</td>\n",
       "      <td>1</td>\n",
       "      <td>0</td>\n",
       "      <td>0</td>\n",
       "      <td>1</td>\n",
       "      <td>0</td>\n",
       "    </tr>\n",
       "    <tr>\n",
       "      <td>3</td>\n",
       "      <td>0.153846</td>\n",
       "      <td>-0.416667</td>\n",
       "      <td>1.0</td>\n",
       "      <td>0.5</td>\n",
       "      <td>0.500000</td>\n",
       "      <td>0.333333</td>\n",
       "      <td>0.333333</td>\n",
       "      <td>0.622052</td>\n",
       "      <td>-0.500000</td>\n",
       "      <td>2.0</td>\n",
       "      <td>2.000000</td>\n",
       "      <td>0.4</td>\n",
       "      <td>-1.0</td>\n",
       "      <td>0.5</td>\n",
       "      <td>0.5</td>\n",
       "      <td>0.0</td>\n",
       "      <td>0.0</td>\n",
       "      <td>2.0</td>\n",
       "      <td>1</td>\n",
       "      <td>0</td>\n",
       "      <td>0</td>\n",
       "      <td>1</td>\n",
       "      <td>0</td>\n",
       "      <td>0</td>\n",
       "      <td>1</td>\n",
       "      <td>0</td>\n",
       "      <td>0</td>\n",
       "      <td>0</td>\n",
       "      <td>0</td>\n",
       "      <td>0</td>\n",
       "      <td>1</td>\n",
       "      <td>0</td>\n",
       "      <td>0</td>\n",
       "      <td>1</td>\n",
       "      <td>0</td>\n",
       "      <td>0</td>\n",
       "      <td>0</td>\n",
       "      <td>0</td>\n",
       "      <td>0</td>\n",
       "      <td>0</td>\n",
       "      <td>0</td>\n",
       "      <td>1</td>\n",
       "      <td>0</td>\n",
       "      <td>0</td>\n",
       "    </tr>\n",
       "    <tr>\n",
       "      <td>4</td>\n",
       "      <td>-0.307692</td>\n",
       "      <td>0.250000</td>\n",
       "      <td>-1.0</td>\n",
       "      <td>-0.5</td>\n",
       "      <td>0.166667</td>\n",
       "      <td>-0.111111</td>\n",
       "      <td>0.666667</td>\n",
       "      <td>-0.471201</td>\n",
       "      <td>-0.333333</td>\n",
       "      <td>-1.0</td>\n",
       "      <td>-0.333333</td>\n",
       "      <td>0.2</td>\n",
       "      <td>0.0</td>\n",
       "      <td>0.5</td>\n",
       "      <td>-1.0</td>\n",
       "      <td>0.0</td>\n",
       "      <td>0.0</td>\n",
       "      <td>1.0</td>\n",
       "      <td>1</td>\n",
       "      <td>0</td>\n",
       "      <td>0</td>\n",
       "      <td>0</td>\n",
       "      <td>1</td>\n",
       "      <td>0</td>\n",
       "      <td>0</td>\n",
       "      <td>0</td>\n",
       "      <td>1</td>\n",
       "      <td>0</td>\n",
       "      <td>0</td>\n",
       "      <td>0</td>\n",
       "      <td>1</td>\n",
       "      <td>0</td>\n",
       "      <td>0</td>\n",
       "      <td>0</td>\n",
       "      <td>0</td>\n",
       "      <td>0</td>\n",
       "      <td>0</td>\n",
       "      <td>0</td>\n",
       "      <td>0</td>\n",
       "      <td>1</td>\n",
       "      <td>0</td>\n",
       "      <td>0</td>\n",
       "      <td>0</td>\n",
       "      <td>1</td>\n",
       "    </tr>\n",
       "  </tbody>\n",
       "</table>\n",
       "</div>"
      ],
      "text/plain": [
       "        Age  DistanceFromHome  Education  JobLevel  YearsAtCompany  \\\n",
       "0  1.153846         -0.083333       -0.5      -0.5       -0.666667   \n",
       "1 -0.384615          0.250000       -1.0      -0.5        0.000000   \n",
       "2 -0.307692          0.833333        0.5       1.0        0.000000   \n",
       "3  0.153846         -0.416667        1.0       0.5        0.500000   \n",
       "4 -0.307692          0.250000       -1.0      -0.5        0.166667   \n",
       "\n",
       "   TotalWorkingYears  NumCompaniesWorked  MonthlyIncome  PercentSalaryHike  \\\n",
       "0          -1.000000           -0.333333       1.498811          -0.500000   \n",
       "1          -0.444444           -0.666667      -0.133480           1.500000   \n",
       "2          -0.555556           -0.333333       2.634668           0.166667   \n",
       "3           0.333333            0.333333       0.622052          -0.500000   \n",
       "4          -0.111111            0.666667      -0.471201          -0.333333   \n",
       "\n",
       "   TrainingTimesLastYear  YearsSinceLastPromotion  YearsWithCurrManager  \\\n",
       "0                    3.0                -0.333333                  -0.6   \n",
       "1                    0.0                 0.000000                   0.2   \n",
       "2                   -1.0                -0.333333                   0.0   \n",
       "3                    2.0                 2.000000                   0.4   \n",
       "4                   -1.0                -0.333333                   0.2   \n",
       "\n",
       "   JobInvolvement  EnvironmentSatisfaction  JobSatisfaction  WorkLifeBalance  \\\n",
       "0             0.0                      0.0              0.5             -1.0   \n",
       "1            -1.0                      0.0             -0.5              1.0   \n",
       "2             0.0                     -0.5             -0.5             -2.0   \n",
       "3            -1.0                      0.5              0.5              0.0   \n",
       "4             0.0                      0.5             -1.0              0.0   \n",
       "\n",
       "   PerformanceRating  StockOptionLevel  Gender  Attrition  \\\n",
       "0                0.0              -1.0       0          0   \n",
       "1                1.0               0.0       0          1   \n",
       "2                0.0               2.0       1          0   \n",
       "3                0.0               2.0       1          0   \n",
       "4                0.0               1.0       1          0   \n",
       "\n",
       "   MaritalStatus_Divorced  MaritalStatus_Married  MaritalStatus_Single  \\\n",
       "0                       0                      1                     0   \n",
       "1                       0                      0                     1   \n",
       "2                       0                      1                     0   \n",
       "3                       0                      1                     0   \n",
       "4                       0                      0                     1   \n",
       "\n",
       "   EducationField_Human Resources  EducationField_Life Sciences  \\\n",
       "0                               0                             1   \n",
       "1                               0                             1   \n",
       "2                               0                             0   \n",
       "3                               0                             1   \n",
       "4                               0                             0   \n",
       "\n",
       "   EducationField_Marketing  EducationField_Medical  EducationField_Other  \\\n",
       "0                         0                       0                     0   \n",
       "1                         0                       0                     0   \n",
       "2                         0                       0                     1   \n",
       "3                         0                       0                     0   \n",
       "4                         0                       1                     0   \n",
       "\n",
       "   EducationField_Technical Degree  Department_Human Resources  \\\n",
       "0                                0                           0   \n",
       "1                                0                           0   \n",
       "2                                0                           0   \n",
       "3                                0                           0   \n",
       "4                                0                           0   \n",
       "\n",
       "   Department_Research & Development  Department_Sales  \\\n",
       "0                                  0                 1   \n",
       "1                                  1                 0   \n",
       "2                                  1                 0   \n",
       "3                                  1                 0   \n",
       "4                                  1                 0   \n",
       "\n",
       "   JobRole_Healthcare Representative  JobRole_Human Resources  \\\n",
       "0                                  1                        0   \n",
       "1                                  0                        0   \n",
       "2                                  0                        0   \n",
       "3                                  0                        1   \n",
       "4                                  0                        0   \n",
       "\n",
       "   JobRole_Laboratory Technician  JobRole_Manager  \\\n",
       "0                              0                0   \n",
       "1                              0                0   \n",
       "2                              0                0   \n",
       "3                              0                0   \n",
       "4                              0                0   \n",
       "\n",
       "   JobRole_Manufacturing Director  JobRole_Research Director  \\\n",
       "0                               0                          0   \n",
       "1                               0                          0   \n",
       "2                               0                          0   \n",
       "3                               0                          0   \n",
       "4                               0                          0   \n",
       "\n",
       "   JobRole_Research Scientist  JobRole_Sales Executive  \\\n",
       "0                           0                        0   \n",
       "1                           1                        0   \n",
       "2                           0                        1   \n",
       "3                           0                        0   \n",
       "4                           0                        1   \n",
       "\n",
       "   JobRole_Sales Representative  BusinessTravel_Non-Travel  \\\n",
       "0                             0                          0   \n",
       "1                             0                          0   \n",
       "2                             0                          0   \n",
       "3                             0                          1   \n",
       "4                             0                          0   \n",
       "\n",
       "   BusinessTravel_Travel_Frequently  BusinessTravel_Travel_Rarely  \n",
       "0                                 0                             1  \n",
       "1                                 1                             0  \n",
       "2                                 1                             0  \n",
       "3                                 0                             0  \n",
       "4                                 0                             1  "
      ]
     },
     "execution_count": 52,
     "metadata": {},
     "output_type": "execute_result"
    }
   ],
   "source": [
    "robust = RobustScaler()\n",
    "full_data_ready_robust= pd.DataFrame(robust.fit_transform(full_data_ready_encode[num_feats]), columns=num_feats)\n",
    "full_data_ready_robust = pd.concat([full_data_ready_robust, full_data_ready_encode.drop(columns=num_feats)], axis=1)\n",
    "full_data_ready_robust.head()"
   ]
  },
  {
   "cell_type": "code",
   "execution_count": 53,
   "metadata": {},
   "outputs": [],
   "source": [
    "full_data_ready_robust.to_csv('Dataset/full_data_ready_robust.csv', index = False) \n",
    "#export to csv just in case we want to use it later"
   ]
  },
  {
   "cell_type": "markdown",
   "metadata": {},
   "source": [
    "## Splitting data Train/Test 80/20 Robust Scaled"
   ]
  },
  {
   "cell_type": "code",
   "execution_count": 89,
   "metadata": {},
   "outputs": [],
   "source": [
    "x_robust = full_data_ready_robust.drop('Attrition', axis = 1)\n",
    "y_robust = full_data_ready_robust['Attrition']"
   ]
  },
  {
   "cell_type": "code",
   "execution_count": 90,
   "metadata": {},
   "outputs": [],
   "source": [
    "x_train_robust, x_test_robust, y_train_robust, y_test_robust = train_test_split(x_robust,y_robust,\n",
    "                                                                                test_size = 0.20,\n",
    "                                                                                random_state = 42 )\n",
    "# x_train_robust\n",
    "# x_test_robust\n",
    "# y_train_robust\n",
    "# y_test_robust"
   ]
  },
  {
   "cell_type": "code",
   "execution_count": 91,
   "metadata": {},
   "outputs": [
    {
     "name": "stdout",
     "output_type": "stream",
     "text": [
      "[[718  23]\n",
      " [116  25]]\n"
     ]
    },
    {
     "data": {
      "image/png": "[encoded data removed]",
      "text/plain": [
       "<Figure size 576x360 with 2 Axes>"
      ]
     },
     "metadata": {
      "needs_background": "light"
     },
     "output_type": "display_data"
    },
    {
     "name": "stdout",
     "output_type": "stream",
     "text": [
      "              precision    recall  f1-score   support\n",
      "\n",
      "           0       0.86      0.97      0.91       741\n",
      "           1       0.52      0.18      0.26       141\n",
      "\n",
      "    accuracy                           0.84       882\n",
      "   macro avg       0.69      0.57      0.59       882\n",
      "weighted avg       0.81      0.84      0.81       882\n",
      "\n",
      "Train score: 85.46%\n",
      "Test score: 84.24%\n",
      "\n",
      "Logistic Regression Cross Validation Score: 83.34%\n",
      "\n"
     ]
    }
   ],
   "source": [
    "log_robust = LogisticRegression(solver='lbfgs',penalty='l2', max_iter=100, random_state=1)\n",
    "log_robust.fit(x_train_robust, y_train_robust)\n",
    "\n",
    "y_pred_robust = log_robust.predict(x_test_robust)\n",
    "\n",
    "print(confusion_matrix(y_test_robust, y_pred_robust))\n",
    "\n",
    "f, ax = plt.subplots(figsize=(8,5))\n",
    "sns.heatmap(confusion_matrix(y_test_robust, y_pred_robust), annot=True, fmt=\".0f\", ax=ax)\n",
    "plt.xlabel(\"Y Predict\")\n",
    "plt.ylabel(\"Y Actual\")\n",
    "plt.show()\n",
    "\n",
    "print(classification_report(y_test_robust, y_pred_robust))\n",
    "print(f'Train score: {round(log_robust.score(x_train_robust, y_train_robust)*100, 2)}%')\n",
    "print(f'Test score: {round(log_robust.score(x_test_robust, y_test_robust)*100, 2)}%\\n')\n",
    "\n",
    "log_robust_score = cross_val_score(log_robust, x_test_robust, y_test_robust, cv=10).mean()\n",
    "print(f'Logistic Regression Cross Validation Score: {round(log_robust_score*100, 2)}%\\n')"
   ]
  },
  {
   "cell_type": "code",
   "execution_count": 94,
   "metadata": {},
   "outputs": [
    {
     "name": "stdout",
     "output_type": "stream",
     "text": [
      "[[741   0]\n",
      " [  6 135]]\n"
     ]
    },
    {
     "data": {
      "image/png": "[encoded data removed]",
      "text/plain": [
       "<Figure size 576x360 with 2 Axes>"
      ]
     },
     "metadata": {
      "needs_background": "light"
     },
     "output_type": "display_data"
    },
    {
     "name": "stdout",
     "output_type": "stream",
     "text": [
      "              precision    recall  f1-score   support\n",
      "\n",
      "           0       0.99      1.00      1.00       741\n",
      "           1       1.00      0.96      0.98       141\n",
      "\n",
      "    accuracy                           0.99       882\n",
      "   macro avg       1.00      0.98      0.99       882\n",
      "weighted avg       0.99      0.99      0.99       882\n",
      "\n",
      "Train score: 100.0%\n",
      "Test score: 99.32%\n",
      "\n",
      "Random Forest Classifier Cross Validation Score: 89.34%\n",
      "\n"
     ]
    }
   ],
   "source": [
    "rfc_robust = RandomForestClassifier(criterion='gini', max_depth=None, min_samples_split=2, min_samples_leaf=1,\n",
    "                              n_estimators=100,random_state=1)\n",
    "rfc_robust.fit(x_train_robust, y_train_robust)\n",
    "\n",
    "y_pred_robust = rfc_robust.predict(x_test_robust)\n",
    "\n",
    "print(confusion_matrix(y_test_robust, y_pred_robust))\n",
    "\n",
    "f, ax = plt.subplots(figsize=(8,5))\n",
    "sns.heatmap(confusion_matrix(y_test_robust, y_pred_robust), annot=True, fmt=\".0f\", ax=ax)\n",
    "plt.xlabel(\"Y Predict\")\n",
    "plt.ylabel(\"Y Actual\")\n",
    "plt.show()\n",
    "\n",
    "print(classification_report(y_test_robust, y_pred_robust))\n",
    "print(f'Train score: {round(rfc_robust.score(x_train_robust, y_train_robust)*100, 2)}%')\n",
    "print(f'Test score: {round(rfc_robust.score(x_test_robust, y_test_robust)*100, 2)}%\\n')\n",
    "\n",
    "rfc_robust_score = cross_val_score(rfc_robust, x_test_robust, y_test_robust, cv=10).mean()\n",
    "print(f'Random Forest Classifier Cross Validation Score: {round(rfc_robust_score*100, 2)}%\\n')"
   ]
  },
  {
   "cell_type": "markdown",
   "metadata": {},
   "source": [
    "The Above result is potentially selected since recall 1 (recall attrition) and precision 0 are almost 1"
   ]
  },
  {
   "cell_type": "code",
   "execution_count": 95,
   "metadata": {},
   "outputs": [
    {
     "name": "stdout",
     "output_type": "stream",
     "text": [
      "[[687  54]\n",
      " [ 96  45]]\n"
     ]
    },
    {
     "data": {
      "image/png": "[encoded data removed]",
      "text/plain": [
       "<Figure size 576x360 with 2 Axes>"
      ]
     },
     "metadata": {
      "needs_background": "light"
     },
     "output_type": "display_data"
    },
    {
     "name": "stdout",
     "output_type": "stream",
     "text": [
      "              precision    recall  f1-score   support\n",
      "\n",
      "           0       0.88      0.93      0.90       741\n",
      "           1       0.45      0.32      0.38       141\n",
      "\n",
      "    accuracy                           0.83       882\n",
      "   macro avg       0.67      0.62      0.64       882\n",
      "weighted avg       0.81      0.83      0.82       882\n",
      "\n",
      "Train score: 94.1%\n",
      "Test score: 82.99%\n",
      "\n",
      "K- Nearest Neighbours Cross Validation Score: 83.34%\n",
      "\n"
     ]
    }
   ],
   "source": [
    "knn_robust = KNeighborsClassifier(n_neighbors=5,\n",
    "                                  algorithm='auto')\n",
    "knn_robust.fit(x_train_robust, y_train_robust)\n",
    "\n",
    "y_pred_robust = knn_robust.predict(x_test_robust)\n",
    "\n",
    "print(confusion_matrix(y_test_robust, y_pred_robust))\n",
    "\n",
    "f, ax = plt.subplots(figsize=(8,5))\n",
    "sns.heatmap(confusion_matrix(y_test_robust, y_pred_robust), annot=True, fmt=\".0f\", ax=ax)\n",
    "plt.xlabel(\"Y Predict\")\n",
    "plt.ylabel(\"Y Actual\")\n",
    "plt.show()\n",
    "\n",
    "print(classification_report(y_test_robust, y_pred_robust))\n",
    "print(f'Train score: {round(knn_robust.score(x_train_robust, y_train_robust)*100, 2)}%')\n",
    "print(f'Test score: {round(knn_robust.score(x_test_robust, y_test_robust)*100, 2)}%\\n')\n",
    "\n",
    "knn_robust_score = cross_val_score(knn_robust, x_test_robust, y_test_robust, cv=10).mean()\n",
    "print(f'K- Nearest Neighbours Cross Validation Score: {round(knn_robust_score*100, 2)}%\\n')"
   ]
  },
  {
   "cell_type": "markdown",
   "metadata": {},
   "source": [
    "## Handling Imbalance data target (Attrition)"
   ]
  },
  {
   "cell_type": "code",
   "execution_count": 96,
   "metadata": {},
   "outputs": [
    {
     "data": {
      "image/png": "[encoded data removed]",
      "text/plain": [
       "<Figure size 432x288 with 1 Axes>"
      ]
     },
     "metadata": {
      "needs_background": "light"
     },
     "output_type": "display_data"
    }
   ],
   "source": [
    "figsize=(100,100)\n",
    "ax = sns.countplot(full_data_clean_gen['Attrition']) # from the dataset after label encoded to 1 and 0\n",
    "for p in ax.patches:\n",
    "    ax.annotate((p.get_height()),(p.get_x()+0.32 , p.get_height()+25))\n",
    "plt.ylabel('Number Of Employees')\n",
    "plt.show()"
   ]
  },
  {
   "cell_type": "markdown",
   "metadata": {},
   "source": [
    "## Using SMOTE after Robust Scaler"
   ]
  },
  {
   "cell_type": "code",
   "execution_count": 97,
   "metadata": {},
   "outputs": [
    {
     "name": "stdout",
     "output_type": "stream",
     "text": [
      "Before OverSampling, counts of label '1': 570\n",
      "Before OverSampling, counts of label '0': 2958 \n",
      "\n",
      "After OverSampling, the shape of x_train_robust_sm: (5916, 43)\n",
      "After OverSampling, the shape of y_train_robust_sm: (5916,) \n",
      "\n",
      "After OverSampling, counts of label '1': 2958\n",
      "After OverSampling, counts of label '0': 2958\n"
     ]
    }
   ],
   "source": [
    "\n",
    "print(\"Before OverSampling, counts of label '1': {}\".format(sum(y_train_robust == 1))) \n",
    "print(\"Before OverSampling, counts of label '0': {} \\n\".format(sum(y_train_robust == 0))) \n",
    "  \n",
    "sm = SMOTE(random_state = 5) \n",
    "x_train_robust_sm, y_train_robust_sm = sm.fit_sample(x_train_robust, y_train_robust) #transform to SM (SMOTE)\n",
    " \n",
    "  \n",
    "print('After OverSampling, the shape of x_train_robust_sm: {}'.format(x_train_robust_sm.shape)) \n",
    "print('After OverSampling, the shape of y_train_robust_sm: {} \\n'.format(y_train_robust_sm.shape)) \n",
    "  \n",
    "print(\"After OverSampling, counts of label '1': {}\".format(sum(y_train_robust_sm == 1))) \n",
    "print(\"After OverSampling, counts of label '0': {}\".format(sum(y_train_robust_sm == 0)))\n"
   ]
  },
  {
   "cell_type": "markdown",
   "metadata": {},
   "source": [
    "### Note: \n",
    "When using SMOTE, x_train and y_train are the only one transformed to x_train_sm an y_train respectively.  When testing, untransformed x_test and y_test are used"
   ]
  },
  {
   "cell_type": "code",
   "execution_count": 99,
   "metadata": {},
   "outputs": [
    {
     "name": "stdout",
     "output_type": "stream",
     "text": [
      "[[635 106]\n",
      " [ 77  64]]\n"
     ]
    },
    {
     "name": "stderr",
     "output_type": "stream",
     "text": [
      "C:\\Users\\Azizur Rachman\\Anaconda3\\lib\\site-packages\\sklearn\\linear_model\\_logistic.py:940: ConvergenceWarning: lbfgs failed to converge (status=1):\n",
      "STOP: TOTAL NO. of ITERATIONS REACHED LIMIT.\n",
      "\n",
      "Increase the number of iterations (max_iter) or scale the data as shown in:\n",
      "    https://scikit-learn.org/stable/modules/preprocessing.html\n",
      "Please also refer to the documentation for alternative solver options:\n",
      "    https://scikit-learn.org/stable/modules/linear_model.html#logistic-regression\n",
      "  extra_warning_msg=_LOGISTIC_SOLVER_CONVERGENCE_MSG)\n"
     ]
    },
    {
     "data": {
      "image/png": "[encoded data removed]",
      "text/plain": [
       "<Figure size 576x360 with 2 Axes>"
      ]
     },
     "metadata": {
      "needs_background": "light"
     },
     "output_type": "display_data"
    },
    {
     "name": "stdout",
     "output_type": "stream",
     "text": [
      "              precision    recall  f1-score   support\n",
      "\n",
      "           0       0.89      0.86      0.87       741\n",
      "           1       0.38      0.45      0.41       141\n",
      "\n",
      "    accuracy                           0.79       882\n",
      "   macro avg       0.63      0.66      0.64       882\n",
      "weighted avg       0.81      0.79      0.80       882\n",
      "\n",
      "Train score: 82.57%\n",
      "Test score: 79.25%\n",
      "\n",
      "Logistic Regression Cross Validation Score: 83.34%\n",
      "\n"
     ]
    }
   ],
   "source": [
    "log_robust_sm = LogisticRegression(solver='lbfgs',penalty='l2', max_iter=100, random_state=1)\n",
    "log_robust_sm.fit(x_train_robust_sm, y_train_robust_sm)\n",
    "\n",
    "y_pred_robust_sm = log_robust_sm.predict(x_test_robust) #use x_test_robust (no SMOTE)\n",
    "\n",
    "print(confusion_matrix(y_test_robust, y_pred_robust_sm))\n",
    "\n",
    "f, ax = plt.subplots(figsize=(8,5))\n",
    "sns.heatmap(confusion_matrix(y_test_robust, y_pred_robust_sm), annot=True, fmt=\".0f\", ax=ax)\n",
    "plt.xlabel(\"Y Predict\")\n",
    "plt.ylabel(\"Y Actual\")\n",
    "plt.show()\n",
    "\n",
    "print(classification_report(y_test_robust, y_pred_robust_sm))\n",
    "print(f'Train score: {round(log_robust_sm.score(x_train_robust_sm, y_train_robust_sm)*100, 2)}%')\n",
    "print(f'Test score: {round(log_robust_sm.score(x_test_robust, y_test_robust)*100, 2)}%\\n')\n",
    "\n",
    "log_robust_sm_score = cross_val_score(log_robust_sm, x_test_robust, y_test_robust, cv=10).mean()\n",
    "print(f'Logistic Regression Cross Validation Score: {round(log_robust_sm_score*100, 2)}%\\n')"
   ]
  },
  {
   "cell_type": "markdown",
   "metadata": {},
   "source": [
    "There is an increase in recall 1 and precision 0 value after SMOTE-Robust treatment"
   ]
  },
  {
   "cell_type": "code",
   "execution_count": 100,
   "metadata": {},
   "outputs": [
    {
     "name": "stdout",
     "output_type": "stream",
     "text": [
      "[[738   3]\n",
      " [  6 135]]\n"
     ]
    },
    {
     "data": {
      "image/png": "[encoded data removed]",
      "text/plain": [
       "<Figure size 576x360 with 2 Axes>"
      ]
     },
     "metadata": {
      "needs_background": "light"
     },
     "output_type": "display_data"
    },
    {
     "name": "stdout",
     "output_type": "stream",
     "text": [
      "              precision    recall  f1-score   support\n",
      "\n",
      "           0       0.99      1.00      0.99       741\n",
      "           1       0.98      0.96      0.97       141\n",
      "\n",
      "    accuracy                           0.99       882\n",
      "   macro avg       0.99      0.98      0.98       882\n",
      "weighted avg       0.99      0.99      0.99       882\n",
      "\n",
      "Train score: 100.0%\n",
      "Test score: 98.98%\n",
      "\n",
      "Random Forest Clasifier Cross Validation Score: 89.34%\n",
      "\n"
     ]
    }
   ],
   "source": [
    "rfc_robust_sm = RandomForestClassifier(criterion='gini', max_depth=None, min_samples_split=2, min_samples_leaf=1,\n",
    "                              n_estimators=100,random_state=1)\n",
    "rfc_robust_sm.fit(x_train_robust_sm, y_train_robust_sm)\n",
    "\n",
    "y_pred_robust_sm = rfc_robust_sm.predict(x_test_robust)\n",
    "\n",
    "print(confusion_matrix(y_test_robust, y_pred_robust_sm))\n",
    "\n",
    "f, ax = plt.subplots(figsize=(8,5))\n",
    "sns.heatmap(confusion_matrix(y_test_robust, y_pred_robust_sm), annot=True, fmt=\".0f\", ax=ax)\n",
    "plt.xlabel(\"Y Predict\")\n",
    "plt.ylabel(\"Y Actual\")\n",
    "plt.show()\n",
    "\n",
    "print(classification_report(y_test_robust, y_pred_robust_sm))\n",
    "print(f'Train score: {round(rfc_robust_sm.score(x_train_robust_sm, y_train_robust_sm)*100, 2)}%')\n",
    "print(f'Test score: {round(rfc_robust_sm.score(x_test_robust, y_test_robust)*100, 2)}%\\n')\n",
    "\n",
    "rfc_robust_sm_score = cross_val_score(rfc_robust_sm, x_test_robust, y_test_robust, cv=10).mean()\n",
    "print(f'Random Forest Clasifier Cross Validation Score: {round(rfc_robust_sm_score*100, 2)}%\\n')"
   ]
  },
  {
   "cell_type": "markdown",
   "metadata": {},
   "source": [
    "An increase in score also found here using random forest classifier (recall 1 and precision 0)"
   ]
  },
  {
   "cell_type": "code",
   "execution_count": 103,
   "metadata": {},
   "outputs": [
    {
     "name": "stdout",
     "output_type": "stream",
     "text": [
      "[[538 203]\n",
      " [  8 133]]\n"
     ]
    },
    {
     "data": {
      "image/png": "[encoded data removed]",
      "text/plain": [
       "<Figure size 576x360 with 2 Axes>"
      ]
     },
     "metadata": {
      "needs_background": "light"
     },
     "output_type": "display_data"
    },
    {
     "name": "stdout",
     "output_type": "stream",
     "text": [
      "              precision    recall  f1-score   support\n",
      "\n",
      "           0       0.99      0.73      0.84       741\n",
      "           1       0.40      0.94      0.56       141\n",
      "\n",
      "    accuracy                           0.76       882\n",
      "   macro avg       0.69      0.83      0.70       882\n",
      "weighted avg       0.89      0.76      0.79       882\n",
      "\n",
      "Train score: 95.2%\n",
      "Test score: 76.08%\n",
      "\n",
      "K Nearest Neighbours Clasifier Cross Validation Score: 83.34%\n",
      "\n"
     ]
    }
   ],
   "source": [
    "knn_robust_sm = KNeighborsClassifier(n_neighbors=5,\n",
    "                                  algorithm='auto')\n",
    "knn_robust_sm.fit(x_train_robust_sm, y_train_robust_sm)\n",
    "\n",
    "y_pred_robust_sm = knn_robust_sm.predict(x_test_robust)\n",
    "\n",
    "print(confusion_matrix(y_test_robust, y_pred_robust_sm))\n",
    "\n",
    "f, ax = plt.subplots(figsize=(8,5))\n",
    "sns.heatmap(confusion_matrix(y_test_robust, y_pred_robust_sm), annot=True, fmt=\".0f\", ax=ax)\n",
    "plt.xlabel(\"Y Predict\")\n",
    "plt.ylabel(\"Y Actual\")\n",
    "plt.show()\n",
    "\n",
    "print(classification_report(y_test_robust, y_pred_robust_sm))\n",
    "print(f'Train score: {round(knn_robust_sm.score(x_train_robust_sm, y_train_robust_sm)*100, 2)}%')\n",
    "print(f'Test score: {round(knn_robust_sm.score(x_test_robust, y_test_robust)*100, 2)}%\\n')\n",
    "\n",
    "knn_robust_sm_score = cross_val_score(knn_robust_sm, x_test_robust, y_test_robust, cv=10).mean()\n",
    "print(f'K Nearest Neighbours Clasifier Cross Validation Score: {round(knn_robust_sm_score*100, 2)}%\\n')\n"
   ]
  },
  {
   "cell_type": "markdown",
   "metadata": {},
   "source": [
    "## Class Weight = 'Balanced'"
   ]
  },
  {
   "cell_type": "code",
   "execution_count": 107,
   "metadata": {},
   "outputs": [
    {
     "name": "stdout",
     "output_type": "stream",
     "text": [
      "[[516 225]\n",
      " [ 56  85]]\n"
     ]
    },
    {
     "data": {
      "image/png": "[encoded data removed]",
      "text/plain": [
       "<Figure size 576x360 with 2 Axes>"
      ]
     },
     "metadata": {
      "needs_background": "light"
     },
     "output_type": "display_data"
    },
    {
     "name": "stdout",
     "output_type": "stream",
     "text": [
      "              precision    recall  f1-score   support\n",
      "\n",
      "           0       0.90      0.70      0.79       741\n",
      "           1       0.27      0.60      0.38       141\n",
      "\n",
      "    accuracy                           0.68       882\n",
      "   macro avg       0.59      0.65      0.58       882\n",
      "weighted avg       0.80      0.68      0.72       882\n",
      "\n",
      "Train score: 71.37%\n",
      "Test score: 68.14%\n",
      "\n",
      "Logistic Regression Cross Validation Score: 68.93%\n",
      "\n"
     ]
    }
   ],
   "source": [
    "log_robust_balanced = LogisticRegression(solver='lbfgs',penalty='l2', max_iter=100,class_weight='balanced', random_state=1)\n",
    "log_robust_balanced.fit(x_train_robust, y_train_robust)\n",
    "\n",
    "y_pred_robust_balanced = log_robust_balanced.predict(x_test_robust)\n",
    "\n",
    "print(confusion_matrix(y_test_robust, y_pred_robust_balanced))\n",
    "\n",
    "f, ax = plt.subplots(figsize=(8,5))\n",
    "sns.heatmap(confusion_matrix(y_test_robust, y_pred_robust_balanced), annot=True, fmt=\".0f\", ax=ax)\n",
    "plt.xlabel(\"Y Predict\")\n",
    "plt.ylabel(\"Y Actual\")\n",
    "plt.show()\n",
    "\n",
    "print(classification_report(y_test_robust, y_pred_robust_balanced))\n",
    "print(f'Train score: {round(log_robust_balanced.score(x_train_robust, y_train_robust)*100, 2)}%')\n",
    "print(f'Test score: {round(log_robust_balanced.score(x_test_robust, y_test_robust)*100, 2)}%\\n')\n",
    "\n",
    "log_robust_balanced_score = cross_val_score(log_robust_balanced, x_test_robust, y_test_robust, cv=10).mean()\n",
    "print(f'Logistic Regression Cross Validation Score: {round(log_robust_balanced_score*100, 2)}%\\n')"
   ]
  },
  {
   "cell_type": "code",
   "execution_count": 108,
   "metadata": {},
   "outputs": [
    {
     "name": "stdout",
     "output_type": "stream",
     "text": [
      "[[741   0]\n",
      " [  6 135]]\n"
     ]
    },
    {
     "data": {
      "image/png": "[encoded data removed]",
      "text/plain": [
       "<Figure size 576x360 with 2 Axes>"
      ]
     },
     "metadata": {
      "needs_background": "light"
     },
     "output_type": "display_data"
    },
    {
     "name": "stdout",
     "output_type": "stream",
     "text": [
      "              precision    recall  f1-score   support\n",
      "\n",
      "           0       0.99      1.00      1.00       741\n",
      "           1       1.00      0.96      0.98       141\n",
      "\n",
      "    accuracy                           0.99       882\n",
      "   macro avg       1.00      0.98      0.99       882\n",
      "weighted avg       0.99      0.99      0.99       882\n",
      "\n",
      "Train score: 100.0%\n",
      "Test score: 99.32%\n",
      "\n",
      "Random Forest Classifier Cross Validation Score: 89.0%\n",
      "\n"
     ]
    }
   ],
   "source": [
    "rfc_robust_balanced = RandomForestClassifier(criterion='gini', max_depth=None, min_samples_split=2,class_weight= 'balanced', min_samples_leaf=1,\n",
    "                              n_estimators=100,random_state=1)\n",
    "rfc_robust_balanced.fit(x_train_robust, y_train_robust)\n",
    "\n",
    "y_pred_robust_balanced = rfc_robust_balanced.predict(x_test_robust)\n",
    "\n",
    "print(confusion_matrix(y_test_robust, y_pred_robust_balanced))\n",
    "\n",
    "f, ax = plt.subplots(figsize=(8,5))\n",
    "sns.heatmap(confusion_matrix(y_test_robust, y_pred_robust_balanced), annot=True, fmt=\".0f\", ax=ax)\n",
    "plt.xlabel(\"Y Predict\")\n",
    "plt.ylabel(\"Y Actual\")\n",
    "plt.show()\n",
    "\n",
    "print(classification_report(y_test_robust, y_pred_robust_balanced))\n",
    "print(f'Train score: {round(rfc_robust_balanced.score(x_train_robust, y_train_robust)*100, 2)}%')\n",
    "print(f'Test score: {round(rfc_robust_balanced.score(x_test_robust, y_test_robust)*100, 2)}%\\n')\n",
    "\n",
    "rfc_robust_balanced_score = cross_val_score(rfc_robust_balanced, x_test_robust, y_test_robust, cv=10).mean()\n",
    "print(f'Random Forest Classifier Cross Validation Score: {round(rfc_robust_balanced_score*100, 2)}%\\n')"
   ]
  },
  {
   "cell_type": "markdown",
   "metadata": {},
   "source": [
    "## Note on KNN (need to study)"
   ]
  },
  {
   "cell_type": "code",
   "execution_count": 112,
   "metadata": {},
   "outputs": [
    {
     "name": "stdout",
     "output_type": "stream",
     "text": [
      "[[741   0]\n",
      " [  6 135]]\n"
     ]
    },
    {
     "data": {
      "image/png": "[encoded data removed]",
      "text/plain": [
       "<Figure size 576x360 with 2 Axes>"
      ]
     },
     "metadata": {
      "needs_background": "light"
     },
     "output_type": "display_data"
    },
    {
     "name": "stdout",
     "output_type": "stream",
     "text": [
      "              precision    recall  f1-score   support\n",
      "\n",
      "           0       0.99      1.00      1.00       741\n",
      "           1       1.00      0.96      0.98       141\n",
      "\n",
      "    accuracy                           0.99       882\n",
      "   macro avg       1.00      0.98      0.99       882\n",
      "weighted avg       0.99      0.99      0.99       882\n",
      "\n",
      "Train score: 100.0%\n",
      "Test score: 99.32%\n",
      "\n",
      "K Nearest Neighbours Cross Validation Score: 87.3%\n",
      "\n",
      "K Nearest Neighbours Cross Validation Score Train: 98.47%\n",
      "\n"
     ]
    }
   ],
   "source": [
    "knn_robust_balanced = KNeighborsClassifier(n_neighbors=5,weights='distance',\n",
    "                                  algorithm='auto')\n",
    "knn_robust_balanced.fit(x_train_robust, y_train_robust)\n",
    "\n",
    "y_pred_robust_balanced = knn_robust_balanced.predict(x_test_robust)\n",
    "\n",
    "print(confusion_matrix(y_test_robust, y_pred_robust_balanced))\n",
    "\n",
    "f, ax = plt.subplots(figsize=(8,5))\n",
    "sns.heatmap(confusion_matrix(y_test_robust, y_pred_robust_balanced), annot=True, fmt=\".0f\", ax=ax)\n",
    "plt.xlabel(\"Y Predict\")\n",
    "plt.ylabel(\"Y Actual\")\n",
    "plt.show()\n",
    "\n",
    "print(classification_report(y_test_robust, y_pred_robust_balanced))\n",
    "print(f'Train score: {round(knn_robust_balanced.score(x_train_robust, y_train_robust)*100, 2)}%')\n",
    "print(f'Test score: {round(knn_robust_balanced.score(x_test_robust, y_test_robust)*100, 2)}%\\n')\n",
    "\n",
    "knn_robust_balanced_score = cross_val_score(knn_robust_balanced, x_test_robust, y_test_robust, cv=10).mean()\n",
    "print(f'K Nearest Neighbours Cross Validation Score: {round(knn_robust_balanced_score*100, 2)}%\\n')\n",
    "\n",
    "knn_robust_balanced_score2 = cross_val_score(knn_robust_balanced, x_train_robust, y_train_robust, cv=10).mean()\n",
    "print(f'K Nearest Neighbours Cross Validation Score Train: {round(knn_robust_balanced_score2*100, 2)}%\\n')"
   ]
  },
  {
   "cell_type": "markdown",
   "metadata": {},
   "source": [
    "## Selected Model\n",
    "Random Forest Classifier Model with Robust scaler shown the best of them all when it comes to Recall 1 and Precision 0"
   ]
  },
  {
   "cell_type": "code",
   "execution_count": 128,
   "metadata": {},
   "outputs": [
    {
     "name": "stdout",
     "output_type": "stream",
     "text": [
      "[[741   0]\n",
      " [  6 135]]\n"
     ]
    },
    {
     "data": {
      "image/png": "[encoded data removed]",
      "text/plain": [
       "<Figure size 576x360 with 2 Axes>"
      ]
     },
     "metadata": {
      "needs_background": "light"
     },
     "output_type": "display_data"
    },
    {
     "name": "stdout",
     "output_type": "stream",
     "text": [
      "              precision    recall  f1-score   support\n",
      "\n",
      "           0       0.99      1.00      1.00       741\n",
      "           1       1.00      0.96      0.98       141\n",
      "\n",
      "    accuracy                           0.99       882\n",
      "   macro avg       1.00      0.98      0.99       882\n",
      "weighted avg       0.99      0.99      0.99       882\n",
      "\n",
      "Train score: 100.0%\n",
      "Test score: 99.32%\n",
      "\n",
      "Random Forest Classifier Robust Cross Validation Score: 89.34%\n",
      "\n"
     ]
    }
   ],
   "source": [
    "rfc_robust = RandomForestClassifier(criterion='gini', max_depth=None, min_samples_split=2, min_samples_leaf=1,\n",
    "                              n_estimators=100,random_state=1)\n",
    "rfc_robust.fit(x_train_robust, y_train_robust)\n",
    "\n",
    "y_pred_robust = rfc_robust.predict(x_test_robust)\n",
    "\n",
    "print(confusion_matrix(y_test_robust, y_pred_robust))\n",
    "\n",
    "f, ax = plt.subplots(figsize=(8,5))\n",
    "sns.heatmap(confusion_matrix(y_test_robust, y_pred_robust), annot=True, fmt=\".0f\", ax=ax)\n",
    "plt.xlabel(\"Y Predict\")\n",
    "plt.ylabel(\"Y Actual\")\n",
    "plt.show()\n",
    "\n",
    "print(classification_report(y_test_robust, y_pred_robust))\n",
    "\n",
    "rfc_robust_train_score = round(rfc_robust.score(x_train_robust, y_train_robust)*100, 2)\n",
    "rfc_robust_test_score = round(rfc_robust.score(x_test_robust, y_test_robust)*100, 2)\n",
    "\n",
    "print(f'Train score: {rfc_robust_train_score}%')\n",
    "print(f'Test score: {rfc_robust_test_score }%\\n')\n",
    "\n",
    "rfc_robust_score = cross_val_score(rfc_robust, x_test_robust, y_test_robust, cv=10).mean()\n",
    "print(f'Random Forest Classifier Robust Cross Validation Score: {round(rfc_robust_score*100, 2)}%\\n')"
   ]
  },
  {
   "cell_type": "markdown",
   "metadata": {},
   "source": [
    "## Hyper Parameter Tuning with Random Search"
   ]
  },
  {
   "cell_type": "code",
   "execution_count": 115,
   "metadata": {},
   "outputs": [],
   "source": [
    "rfc_parameter_random = {'criterion' : ['gini', 'entropy'],\n",
    "                 'max_depth' : [None, 10, 20, 40, 80, 100, 200, 400],\n",
    "                 'min_samples_split' : [2, 3, 4, 5, 6, 7, 8, 9, 10],\n",
    "                 'min_samples_leaf' : [1, 2, 3, 4, 5, 6, 7, 8, 9],\n",
    "                 'n_estimators' : [10, 20, 40, 80, 100, 200, 400, 1000]\n",
    "                 }\n",
    "\n"
   ]
  },
  {
   "cell_type": "code",
   "execution_count": 116,
   "metadata": {},
   "outputs": [
    {
     "name": "stdout",
     "output_type": "stream",
     "text": [
      "Wall time: 2min 16s\n"
     ]
    },
    {
     "data": {
      "text/plain": [
       "RandomizedSearchCV(cv=5, error_score=nan,\n",
       "                   estimator=RandomForestClassifier(bootstrap=True,\n",
       "                                                    ccp_alpha=0.0,\n",
       "                                                    class_weight=None,\n",
       "                                                    criterion='gini',\n",
       "                                                    max_depth=None,\n",
       "                                                    max_features='auto',\n",
       "                                                    max_leaf_nodes=None,\n",
       "                                                    max_samples=None,\n",
       "                                                    min_impurity_decrease=0.0,\n",
       "                                                    min_impurity_split=None,\n",
       "                                                    min_samples_leaf=1,\n",
       "                                                    min_samples_split=2,\n",
       "                                                    min_weight_fraction_leaf=0.0,\n",
       "                                                    n_estimators=100,\n",
       "                                                    n_jobs...\n",
       "                   iid='deprecated', n_iter=100, n_jobs=-1,\n",
       "                   param_distributions={'criterion': ['gini', 'entropy'],\n",
       "                                        'max_depth': [None, 10, 20, 40, 80, 100,\n",
       "                                                      200, 400],\n",
       "                                        'min_samples_leaf': [1, 2, 3, 4, 5, 6,\n",
       "                                                             7, 8, 9],\n",
       "                                        'min_samples_split': [2, 3, 4, 5, 6, 7,\n",
       "                                                              8, 9, 10],\n",
       "                                        'n_estimators': [10, 20, 40, 80, 100,\n",
       "                                                         200, 400, 1000]},\n",
       "                   pre_dispatch='2*n_jobs', random_state=None, refit=True,\n",
       "                   return_train_score=False, scoring=None, verbose=0)"
      ]
     },
     "execution_count": 116,
     "metadata": {},
     "output_type": "execute_result"
    }
   ],
   "source": [
    "%%time\n",
    "rfc_random = RandomizedSearchCV(estimator=RandomForestClassifier(),\n",
    "                             param_distributions = rfc_parameter_random,\n",
    "                             cv=5,\n",
    "                             n_iter=100, #change to 100 (default 10)\n",
    "                             n_jobs=-1\n",
    "                            )\n",
    "\n",
    "rfc_random.fit(x_train_robust, y_train_robust)"
   ]
  },
  {
   "cell_type": "markdown",
   "metadata": {},
   "source": [
    "### from stack overflow:\n",
    "\"This parameter is used to specify how many concurrent processes or threads should be used for routines that are parallelized with joblib.\n",
    "\n",
    "n_jobs is an integer, specifying the maximum number of concurrently running workers. If 1 is given, no joblib parallelism is used at all, which is useful for debugging. If set to -1, all CPUs are used. For n_jobs below -1, (n_cpus + 1 + n_jobs) are used. For example with n_jobs=-2, all CPUs but one are used.\n",
    "\n",
    "n_jobs is None by default, which means unset; it will generally be interpreted as n_jobs=1, unless the current joblib.Parallel backend context specifies otherwise.\""
   ]
  },
  {
   "cell_type": "code",
   "execution_count": 119,
   "metadata": {},
   "outputs": [
    {
     "data": {
      "text/plain": [
       "{'n_estimators': 200,\n",
       " 'min_samples_split': 2,\n",
       " 'min_samples_leaf': 1,\n",
       " 'max_depth': None,\n",
       " 'criterion': 'entropy'}"
      ]
     },
     "execution_count": 119,
     "metadata": {},
     "output_type": "execute_result"
    }
   ],
   "source": [
    "rfc_random.best_params_"
   ]
  },
  {
   "cell_type": "code",
   "execution_count": 127,
   "metadata": {},
   "outputs": [
    {
     "name": "stdout",
     "output_type": "stream",
     "text": [
      "[[741   0]\n",
      " [  6 135]]\n"
     ]
    },
    {
     "data": {
      "image/png": "[encoded data removed]",
      "text/plain": [
       "<Figure size 576x360 with 2 Axes>"
      ]
     },
     "metadata": {
      "needs_background": "light"
     },
     "output_type": "display_data"
    },
    {
     "name": "stdout",
     "output_type": "stream",
     "text": [
      "              precision    recall  f1-score   support\n",
      "\n",
      "           0       0.99      1.00      1.00       741\n",
      "           1       1.00      0.96      0.98       141\n",
      "\n",
      "    accuracy                           0.99       882\n",
      "   macro avg       1.00      0.98      0.99       882\n",
      "weighted avg       0.99      0.99      0.99       882\n",
      "\n",
      "Train Score: 100.0%\n",
      "Test Score: 99.32%\n",
      "\n",
      "Random Forest Classifier Robust Hyper Cross Validation Score: 89.23%\n",
      "\n"
     ]
    }
   ],
   "source": [
    "rfc_robust_hyper = RandomForestClassifier(criterion='entropy', max_depth=None, min_samples_split=2, min_samples_leaf=1,\n",
    "                              n_estimators=200,random_state=1)\n",
    "rfc_robust_hyper.fit(x_train_robust, y_train_robust)\n",
    "\n",
    "y_pred_robust_hyper = rfc_robust_hyper.predict(x_test_robust)\n",
    "\n",
    "print(confusion_matrix(y_test_robust, y_pred_robust_hyper))\n",
    "\n",
    "f, ax = plt.subplots(figsize=(8,5))\n",
    "sns.heatmap(confusion_matrix(y_test_robust, y_pred_robust_hyper), annot=True, fmt=\".0f\", ax=ax)\n",
    "plt.xlabel(\"Y Predict\")\n",
    "plt.ylabel(\"Y Actual\")\n",
    "plt.show()\n",
    "\n",
    "print(classification_report(y_test_robust, y_pred_robust_hyper))\n",
    "rfc_robust_hyper_train_score = round(rfc_robust_hyper.score(x_train_robust, y_train_robust)*100, 2)\n",
    "rfc_robust_hyper_test_score = round(rfc_robust_hyper.score(x_test_robust, y_test_robust)*100,2)\n",
    "\n",
    "print(f'Train Score: {rfc_robust_hyper_train_score}%')\n",
    "print(f'Test Score: {rfc_robust_hyper_test_score}%\\n')\n",
    "# print(f'Train score: {round(rfc_robust_hyper.score(x_train_robust, y_train_robust)*100, 2)}%')\n",
    "# print(f'Test score: {round(rfc_robust_hyper.score(x_test_robust, y_test_robust)*100, 2)}%\\n')\n",
    "\n",
    "rfc_robust_hyper_score = cross_val_score(rfc_robust_hyper, x_test_robust, y_test_robust, cv=10).mean()\n",
    "print(f'Random Forest Classifier Robust Hyper Cross Validation Score: {round(rfc_robust_hyper_score*100, 2)}%\\n')"
   ]
  },
  {
   "cell_type": "markdown",
   "metadata": {},
   "source": [
    "After Execution Hyperparameter on the above model, there seemed to be no increase in the score. "
   ]
  },
  {
   "cell_type": "code",
   "execution_count": 129,
   "metadata": {},
   "outputs": [
    {
     "data": {
      "text/html": [
       "<div>\n",
       "<style scoped>\n",
       "    .dataframe tbody tr th:only-of-type {\n",
       "        vertical-align: middle;\n",
       "    }\n",
       "\n",
       "    .dataframe tbody tr th {\n",
       "        vertical-align: top;\n",
       "    }\n",
       "\n",
       "    .dataframe thead th {\n",
       "        text-align: right;\n",
       "    }\n",
       "</style>\n",
       "<table border=\"1\" class=\"dataframe\">\n",
       "  <thead>\n",
       "    <tr style=\"text-align: right;\">\n",
       "      <th></th>\n",
       "      <th>Random Forest Model</th>\n",
       "      <th>CrossVal Score</th>\n",
       "      <th>Train Score</th>\n",
       "      <th>Test Score</th>\n",
       "    </tr>\n",
       "  </thead>\n",
       "  <tbody>\n",
       "    <tr>\n",
       "      <td>0</td>\n",
       "      <td>Default</td>\n",
       "      <td>0.893437</td>\n",
       "      <td>100.0</td>\n",
       "      <td>99.32</td>\n",
       "    </tr>\n",
       "    <tr>\n",
       "      <td>1</td>\n",
       "      <td>Hyperparameter</td>\n",
       "      <td>0.892301</td>\n",
       "      <td>100.0</td>\n",
       "      <td>99.32</td>\n",
       "    </tr>\n",
       "  </tbody>\n",
       "</table>\n",
       "</div>"
      ],
      "text/plain": [
       "  Random Forest Model  CrossVal Score  Train Score  Test Score\n",
       "0             Default        0.893437        100.0       99.32\n",
       "1      Hyperparameter        0.892301        100.0       99.32"
      ]
     },
     "execution_count": 129,
     "metadata": {},
     "output_type": "execute_result"
    }
   ],
   "source": [
    "compare_rfc = pd.DataFrame({'Random Forest Model' : ['Default', 'Hyperparameter'], \n",
    "                            'CrossVal Score': [rfc_robust_score, rfc_robust_hyper_score],\n",
    "                           'Train Score': [rfc_robust_train_score, rfc_robust_hyper_train_score ],\n",
    "                           'Test Score': [rfc_robust_test_score, rfc_robust_hyper_test_score]})\n",
    "\n",
    "compare_rfc.head()"
   ]
  },
  {
   "cell_type": "code",
   "execution_count": null,
   "metadata": {},
   "outputs": [],
   "source": []
  }
 ],
 "metadata": {
  "kernelspec": {
   "display_name": "Python 3.7.4 64-bit ('base': conda)",
   "language": "python",
   "name": "python37464bitbasecondaa67f5cb8880f4552afcbcde07934144a"
  },
  "language_info": {
   "codemirror_mode": {
    "name": "ipython",
    "version": 3
   },
   "file_extension": ".py",
   "mimetype": "text/x-python",
   "name": "python",
   "nbconvert_exporter": "python",
   "pygments_lexer": "ipython3",
   "version": "3.7.4"
  }
 },
 "nbformat": 4,
 "nbformat_minor": 2
}
