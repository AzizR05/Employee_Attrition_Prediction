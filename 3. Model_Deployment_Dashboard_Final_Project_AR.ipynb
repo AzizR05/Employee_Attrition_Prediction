{
 "cells": [
  {
   "cell_type": "code",
   "execution_count": 2,
   "metadata": {},
   "outputs": [],
   "source": [
    "import joblib\n",
    "\n",
    "import matplotlib.pyplot as plt\n",
    "import numpy as np\n",
    "import pandas as pd\n",
    "import seaborn as sns\n",
    "%matplotlib inline\n",
    "\n",
    "\n",
    "from sklearn.ensemble import RandomForestClassifier\n",
    "\n",
    "from sklearn.metrics import accuracy_score, classification_report, confusion_matrix, recall_score, f1_score\n",
    "from sklearn.model_selection import cross_val_score, train_test_split"
   ]
  },
  {
   "cell_type": "code",
   "execution_count": 3,
   "metadata": {},
   "outputs": [],
   "source": [
    "full_data_ready_encode = pd.read_csv('Dataset/full_data_ready_encode.csv')"
   ]
  },
  {
   "cell_type": "code",
   "execution_count": 4,
   "metadata": {},
   "outputs": [],
   "source": [
    "x1 = full_data_ready_encode.drop('Attrition', axis = 1)\n",
    "y1 = full_data_ready_encode['Attrition']"
   ]
  },
  {
   "cell_type": "code",
   "execution_count": 5,
   "metadata": {},
   "outputs": [
    {
     "data": {
      "image/png": "[encoded data removed]",
      "text/plain": [
       "<Figure size 432x288 with 1 Axes>"
      ]
     },
     "metadata": {
      "needs_background": "light"
     },
     "output_type": "display_data"
    }
   ],
   "source": [
    "model = RandomForestClassifier()\n",
    "model.fit(x1, y1)\n",
    "feat_importances = pd.Series(model.feature_importances_, index = x1.columns)\n",
    "feat_importances.nlargest(10).plot.barh()\n",
    "plt.show()"
   ]
  },
  {
   "cell_type": "code",
   "execution_count": 7,
   "metadata": {},
   "outputs": [],
   "source": [
    "df_selected = full_data_ready_encode[['Age','MonthlyIncome','TotalWorkingYears','YearsAtCompany','DistanceFromHome','PercentSalaryHike',\n",
    "                        'NumCompaniesWorked','YearsWithCurrManager','EnvironmentSatisfaction','JobSatisfaction','Attrition']]"
   ]
  },
  {
   "cell_type": "code",
   "execution_count": 8,
   "metadata": {},
   "outputs": [
    {
     "data": {
      "text/html": [
       "<div>\n",
       "<style scoped>\n",
       "    .dataframe tbody tr th:only-of-type {\n",
       "        vertical-align: middle;\n",
       "    }\n",
       "\n",
       "    .dataframe tbody tr th {\n",
       "        vertical-align: top;\n",
       "    }\n",
       "\n",
       "    .dataframe thead th {\n",
       "        text-align: right;\n",
       "    }\n",
       "</style>\n",
       "<table border=\"1\" class=\"dataframe\">\n",
       "  <thead>\n",
       "    <tr style=\"text-align: right;\">\n",
       "      <th></th>\n",
       "      <th>Age</th>\n",
       "      <th>MonthlyIncome</th>\n",
       "      <th>TotalWorkingYears</th>\n",
       "      <th>YearsAtCompany</th>\n",
       "      <th>DistanceFromHome</th>\n",
       "      <th>PercentSalaryHike</th>\n",
       "      <th>NumCompaniesWorked</th>\n",
       "      <th>YearsWithCurrManager</th>\n",
       "      <th>EnvironmentSatisfaction</th>\n",
       "      <th>JobSatisfaction</th>\n",
       "      <th>Attrition</th>\n",
       "    </tr>\n",
       "  </thead>\n",
       "  <tbody>\n",
       "    <tr>\n",
       "      <td>0</td>\n",
       "      <td>51</td>\n",
       "      <td>131160</td>\n",
       "      <td>1</td>\n",
       "      <td>1</td>\n",
       "      <td>6</td>\n",
       "      <td>11</td>\n",
       "      <td>1</td>\n",
       "      <td>0</td>\n",
       "      <td>3</td>\n",
       "      <td>4</td>\n",
       "      <td>0</td>\n",
       "    </tr>\n",
       "    <tr>\n",
       "      <td>1</td>\n",
       "      <td>31</td>\n",
       "      <td>41890</td>\n",
       "      <td>6</td>\n",
       "      <td>5</td>\n",
       "      <td>10</td>\n",
       "      <td>23</td>\n",
       "      <td>0</td>\n",
       "      <td>4</td>\n",
       "      <td>3</td>\n",
       "      <td>2</td>\n",
       "      <td>1</td>\n",
       "    </tr>\n",
       "    <tr>\n",
       "      <td>2</td>\n",
       "      <td>32</td>\n",
       "      <td>193280</td>\n",
       "      <td>5</td>\n",
       "      <td>5</td>\n",
       "      <td>17</td>\n",
       "      <td>15</td>\n",
       "      <td>1</td>\n",
       "      <td>3</td>\n",
       "      <td>2</td>\n",
       "      <td>2</td>\n",
       "      <td>0</td>\n",
       "    </tr>\n",
       "    <tr>\n",
       "      <td>3</td>\n",
       "      <td>38</td>\n",
       "      <td>83210</td>\n",
       "      <td>13</td>\n",
       "      <td>8</td>\n",
       "      <td>2</td>\n",
       "      <td>11</td>\n",
       "      <td>3</td>\n",
       "      <td>5</td>\n",
       "      <td>4</td>\n",
       "      <td>4</td>\n",
       "      <td>0</td>\n",
       "    </tr>\n",
       "    <tr>\n",
       "      <td>4</td>\n",
       "      <td>32</td>\n",
       "      <td>23420</td>\n",
       "      <td>9</td>\n",
       "      <td>6</td>\n",
       "      <td>10</td>\n",
       "      <td>12</td>\n",
       "      <td>4</td>\n",
       "      <td>4</td>\n",
       "      <td>4</td>\n",
       "      <td>1</td>\n",
       "      <td>0</td>\n",
       "    </tr>\n",
       "  </tbody>\n",
       "</table>\n",
       "</div>"
      ],
      "text/plain": [
       "   Age  MonthlyIncome  TotalWorkingYears  YearsAtCompany  DistanceFromHome  \\\n",
       "0   51         131160                  1               1                 6   \n",
       "1   31          41890                  6               5                10   \n",
       "2   32         193280                  5               5                17   \n",
       "3   38          83210                 13               8                 2   \n",
       "4   32          23420                  9               6                10   \n",
       "\n",
       "   PercentSalaryHike  NumCompaniesWorked  YearsWithCurrManager  \\\n",
       "0                 11                   1                     0   \n",
       "1                 23                   0                     4   \n",
       "2                 15                   1                     3   \n",
       "3                 11                   3                     5   \n",
       "4                 12                   4                     4   \n",
       "\n",
       "   EnvironmentSatisfaction  JobSatisfaction  Attrition  \n",
       "0                        3                4          0  \n",
       "1                        3                2          1  \n",
       "2                        2                2          0  \n",
       "3                        4                4          0  \n",
       "4                        4                1          0  "
      ]
     },
     "execution_count": 8,
     "metadata": {},
     "output_type": "execute_result"
    }
   ],
   "source": [
    "df_selected.head()"
   ]
  },
  {
   "cell_type": "code",
   "execution_count": 11,
   "metadata": {},
   "outputs": [],
   "source": [
    "x_select = df_selected.drop('Attrition', axis = 1)\n",
    "y_select = df_selected['Attrition']"
   ]
  },
  {
   "cell_type": "code",
   "execution_count": 12,
   "metadata": {},
   "outputs": [],
   "source": [
    "x_select_train, x_select_test, y_select_train, y_select_test = train_test_split(x_select,y_select,test_size = 0.20,random_state = 42)"
   ]
  },
  {
   "cell_type": "code",
   "execution_count": 13,
   "metadata": {
    "scrolled": true
   },
   "outputs": [
    {
     "name": "stdout",
     "output_type": "stream",
     "text": [
      "[[741   0]\n",
      " [  8 133]]\n"
     ]
    },
    {
     "data": {
      "image/png": "[encoded data removed]",
      "text/plain": [
       "<Figure size 576x360 with 2 Axes>"
      ]
     },
     "metadata": {
      "needs_background": "light"
     },
     "output_type": "display_data"
    },
    {
     "name": "stdout",
     "output_type": "stream",
     "text": [
      "              precision    recall  f1-score   support\n",
      "\n",
      "           0       0.99      1.00      0.99       741\n",
      "           1       1.00      0.94      0.97       141\n",
      "\n",
      "    accuracy                           0.99       882\n",
      "   macro avg       0.99      0.97      0.98       882\n",
      "weighted avg       0.99      0.99      0.99       882\n",
      "\n",
      "Train score: 100.0%\n",
      "Test score: 99.09%\n",
      "\n",
      "RandomForest Cross Validation Score: 87.98%\n",
      "\n"
     ]
    }
   ],
   "source": [
    "rfc_select = RandomForestClassifier(criterion='gini', max_depth=None, min_samples_split=2, min_samples_leaf=1,\n",
    "                              n_estimators=100,random_state=1)\n",
    "rfc_select.fit(x_select_train, y_select_train)\n",
    "\n",
    "y1_pred_select = rfc_select.predict(x_select_test)\n",
    "\n",
    "print(confusion_matrix(y_select_test, y1_pred_select))\n",
    "\n",
    "f, ax = plt.subplots(figsize=(8,5))\n",
    "sns.heatmap(confusion_matrix(y_select_test, y1_pred_select), annot=True, fmt=\".0f\", ax=ax)\n",
    "plt.xlabel(\"Y Predict\")\n",
    "plt.ylabel(\"Y Actual\")\n",
    "plt.show()\n",
    "\n",
    "print(classification_report(y_select_test, y1_pred_select))\n",
    "print(f'Train score: {round(rfc_select.score(x_select_train, y_select_train)*100, 2)}%')\n",
    "print(f'Test score: {round(rfc_select.score(x_select_test, y_select_test)*100, 2)}%\\n')\n",
    "\n",
    "rfc_select_score = cross_val_score(rfc_select, x_select_test, y_select_test, cv=10).mean()\n",
    "print(f'RandomForest Cross Validation Score: {round(rfc_select_score*100, 2)}%\\n')"
   ]
  },
  {
   "cell_type": "code",
   "execution_count": 14,
   "metadata": {},
   "outputs": [
    {
     "data": {
      "text/plain": [
       "['modelJoblib']"
      ]
     },
     "execution_count": 14,
     "metadata": {},
     "output_type": "execute_result"
    }
   ],
   "source": [
    "joblib.dump(rfc_select, 'modelJoblib')"
   ]
  },
  {
   "cell_type": "code",
   "execution_count": null,
   "metadata": {},
   "outputs": [],
   "source": []
  }
 ],
 "metadata": {
  "kernelspec": {
   "display_name": "Python 3.7.4 64-bit ('base': conda)",
   "language": "python",
   "name": "python37464bitbasecondaa67f5cb8880f4552afcbcde07934144a"
  },
  "language_info": {
   "codemirror_mode": {
    "name": "ipython",
    "version": 3
   },
   "file_extension": ".py",
   "mimetype": "text/x-python",
   "name": "python",
   "nbconvert_exporter": "python",
   "pygments_lexer": "ipython3",
   "version": "3.7.4"
  }
 },
 "nbformat": 4,
 "nbformat_minor": 2
}
